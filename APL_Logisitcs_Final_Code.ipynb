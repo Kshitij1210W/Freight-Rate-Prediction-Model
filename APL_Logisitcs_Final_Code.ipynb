{
  "nbformat": 4,
  "nbformat_minor": 0,
  "metadata": {
    "colab": {
      "provenance": []
    },
    "kernelspec": {
      "name": "python3",
      "display_name": "Python 3"
    },
    "language_info": {
      "name": "python"
    }
  },
  "cells": [
    {
      "cell_type": "code",
      "execution_count": 1,
      "metadata": {
        "id": "JxJnsLRTfzr0"
      },
      "outputs": [],
      "source": [
        "import pandas as pd\n",
        "import numpy as np\n",
        "from sklearn.model_selection import train_test_split\n",
        "from sklearn.linear_model import Ridge\n",
        "from sklearn.preprocessing import StandardScaler, OneHotEncoder\n",
        "from sklearn.compose import ColumnTransformer\n",
        "from sklearn.pipeline import Pipeline\n",
        "from sklearn.metrics import mean_squared_error, r2_score\n",
        "from sklearn.preprocessing import PolynomialFeatures\n",
        "from sklearn.linear_model import LinearRegression\n",
        "from sklearn.ensemble import RandomForestRegressor\n",
        "from sklearn.neural_network import MLPRegressor\n",
        "from sklearn.svm import SVR\n",
        "from sklearn.ensemble import VotingRegressor\n",
        "\n",
        "from sklearn.model_selection import GridSearchCV, RandomizedSearchCV\n",
        "from sklearn.ensemble import StackingRegressor\n",
        "import joblib"
      ]
    },
    {
      "cell_type": "code",
      "source": [
        "# Load your dataset\n",
        "data = pd.read_csv('/content/APL_Logistics_Data_Updated.csv')"
      ],
      "metadata": {
        "colab": {
          "base_uri": "https://localhost:8080/"
        },
        "id": "szXbtKzUf7rf",
        "outputId": "0c2f6cd4-b699-4f0c-c823-d0290ae509eb"
      },
      "execution_count": 2,
      "outputs": [
        {
          "output_type": "stream",
          "name": "stderr",
          "text": [
            "<ipython-input-2-38cd27c6655e>:2: DtypeWarning: Columns (32) have mixed types. Specify dtype option on import or set low_memory=False.\n",
            "  data = pd.read_csv('/content/APL_Logistics_Data_Updated.csv')\n"
          ]
        }
      ]
    },
    {
      "cell_type": "code",
      "source": [
        "selected_columns = [\n",
        "    'Planned Base Cost', 'Actual Pickup Month',\n",
        "    'Actual Pickup Day', 'Actual Pickup Year', 'Actual Delivery Month', 'Actual Delivery Day',\n",
        "    'Actual Delivery Year', 'Weight Unit of measure (LB)', 'Time Difference (Hours)', 'Average Hourly Wage',\n",
        "    'Fuel Rate /Gallon', 'Level of Disruption', 'Travel Time'\n",
        "\n",
        "]"
      ],
      "metadata": {
        "id": "30eu4C_hTeaL"
      },
      "execution_count": 3,
      "outputs": []
    },
    {
      "cell_type": "code",
      "source": [
        "# Filter the data based on selected columns\n",
        "data_filtered = data[selected_columns]"
      ],
      "metadata": {
        "id": "xVPV9jtmWgK-"
      },
      "execution_count": 4,
      "outputs": []
    },
    {
      "cell_type": "code",
      "source": [
        "# Function to convert Travel Time to hours\n",
        "def convert_to_hours(time_str):\n",
        "    parts = time_str.split(' ')\n",
        "    hours = int(parts[0])\n",
        "    if len(parts) > 2:  # If the time includes minutes\n",
        "        mins = int(parts[2])\n",
        "    else:\n",
        "        mins = 0\n",
        "    return hours + mins / 60  # Convert minutes to hours"
      ],
      "metadata": {
        "id": "B9a2YYhDWAZ6"
      },
      "execution_count": 5,
      "outputs": []
    },
    {
      "cell_type": "code",
      "source": [
        "# Convert 'Travel Time' to hours\n",
        "data_filtered['Travel Time (hours)'] = data_filtered['Travel Time'].apply(convert_to_hours)\n",
        "\n",
        "# Drop the original 'Travel Time' column\n",
        "data_filtered.drop('Travel Time', axis=1, inplace=True)"
      ],
      "metadata": {
        "colab": {
          "base_uri": "https://localhost:8080/"
        },
        "id": "mLRrdLtgWQzs",
        "outputId": "ed7e2fa9-391b-4c0a-f202-5e1f08f11ab9"
      },
      "execution_count": 6,
      "outputs": [
        {
          "output_type": "stream",
          "name": "stderr",
          "text": [
            "<ipython-input-6-05f121a0353d>:2: SettingWithCopyWarning: \n",
            "A value is trying to be set on a copy of a slice from a DataFrame.\n",
            "Try using .loc[row_indexer,col_indexer] = value instead\n",
            "\n",
            "See the caveats in the documentation: https://pandas.pydata.org/pandas-docs/stable/user_guide/indexing.html#returning-a-view-versus-a-copy\n",
            "  data_filtered['Travel Time (hours)'] = data_filtered['Travel Time'].apply(convert_to_hours)\n",
            "<ipython-input-6-05f121a0353d>:5: SettingWithCopyWarning: \n",
            "A value is trying to be set on a copy of a slice from a DataFrame\n",
            "\n",
            "See the caveats in the documentation: https://pandas.pydata.org/pandas-docs/stable/user_guide/indexing.html#returning-a-view-versus-a-copy\n",
            "  data_filtered.drop('Travel Time', axis=1, inplace=True)\n"
          ]
        }
      ]
    },
    {
      "cell_type": "code",
      "source": [
        "# #One-hot encode categorical columns\n",
        "# categorical_cols = ['Equipment/Trailer/Container Type', 'Tender Type (Ordinary/Broadcast)']\n",
        "# data_filtered = pd.get_dummies(data_filtered, columns=categorical_cols)"
      ],
      "metadata": {
        "id": "UQCbpZuhUd-1"
      },
      "execution_count": 7,
      "outputs": []
    },
    {
      "cell_type": "code",
      "source": [
        "data_filtered['Travel Time (hours)'].head()"
      ],
      "metadata": {
        "colab": {
          "base_uri": "https://localhost:8080/"
        },
        "id": "ATzKr6nJVj3a",
        "outputId": "cf83de3e-f87b-4237-e118-12b8498152f3"
      },
      "execution_count": 8,
      "outputs": [
        {
          "output_type": "execute_result",
          "data": {
            "text/plain": [
              "0     5.333333\n",
              "1    10.783333\n",
              "2     1.816667\n",
              "3     4.316667\n",
              "4     6.816667\n",
              "Name: Travel Time (hours), dtype: float64"
            ]
          },
          "metadata": {},
          "execution_count": 8
        }
      ]
    },
    {
      "cell_type": "code",
      "source": [
        "# Function to remove outliers based on the IQR\n",
        "def remove_outliers(df):\n",
        "    numeric_cols = df.select_dtypes(include=['int64', 'float64']).columns\n",
        "    for col in numeric_cols:\n",
        "        Q1 = df[col].quantile(0.25)\n",
        "        Q3 = df[col].quantile(0.75)\n",
        "        IQR = Q3 - Q1\n",
        "        df = df[(df[col] >= Q1 - 1.5 * IQR) & (df[col] <= Q3 + 1.5 * IQR)]\n",
        "    return df\n",
        "\n",
        "# Remove outliers from relevant continuous features\n",
        "data_filtered = remove_outliers(data_filtered)\n"
      ],
      "metadata": {
        "id": "V2YD1gMdQWWj"
      },
      "execution_count": 9,
      "outputs": []
    },
    {
      "cell_type": "code",
      "source": [
        "data_filtered.shape"
      ],
      "metadata": {
        "colab": {
          "base_uri": "https://localhost:8080/"
        },
        "id": "FJij1mQ5Tp5p",
        "outputId": "66cc10a5-02b2-47a3-c0c7-4742f7e569d7"
      },
      "execution_count": 10,
      "outputs": [
        {
          "output_type": "execute_result",
          "data": {
            "text/plain": [
              "(20816, 13)"
            ]
          },
          "metadata": {},
          "execution_count": 10
        }
      ]
    },
    {
      "cell_type": "code",
      "source": [
        "#Correlation analysis\n",
        "corr_matrix = data_filtered.corr()\n",
        "correlation_threshold = 0.2\n",
        "highly_correlated_cols = (corr_matrix['Planned Base Cost'].abs() > correlation_threshold) | (corr_matrix['Planned Base Cost'].abs() < -correlation_threshold)\n",
        "selected_columns = highly_correlated_cols[highly_correlated_cols].index.tolist()\n",
        "selected_columns.remove('Planned Base Cost')  # Remove the target variable from the selected columns\n",
        "data_selected = data_filtered[selected_columns + ['Planned Base Cost']]"
      ],
      "metadata": {
        "id": "3i2Akp1wP7IP"
      },
      "execution_count": 11,
      "outputs": []
    },
    {
      "cell_type": "code",
      "source": [
        "# Define your features and target variable\n",
        "X = data_filtered.drop('Planned Base Cost', axis=1)\n",
        "y = data_filtered['Planned Base Cost']"
      ],
      "metadata": {
        "id": "E_3k2LC8P7Lj"
      },
      "execution_count": 12,
      "outputs": []
    },
    {
      "cell_type": "code",
      "source": [
        "X.head()"
      ],
      "metadata": {
        "colab": {
          "base_uri": "https://localhost:8080/",
          "height": 224
        },
        "id": "4yPqD_HeWtu1",
        "outputId": "77c9c1fe-6a5d-44d4-94fe-1d16c6448e3b"
      },
      "execution_count": 13,
      "outputs": [
        {
          "output_type": "execute_result",
          "data": {
            "text/plain": [
              "   Actual Pickup Month  Actual Pickup Day  Actual Pickup Year  \\\n",
              "0                    2                 13                2024   \n",
              "1                    2                 16                2024   \n",
              "2                    2                 14                2024   \n",
              "3                    2                 12                2024   \n",
              "4                    2                 15                2024   \n",
              "\n",
              "   Actual Delivery Month  Actual Delivery Day  Actual Delivery Year  \\\n",
              "0                      2                   14                  2024   \n",
              "1                      2                   19                  2024   \n",
              "2                      2                   15                  2024   \n",
              "3                      2                   13                  2024   \n",
              "4                      2                   16                  2024   \n",
              "\n",
              "   Weight Unit of measure (LB)  Time Difference (Hours)  Average Hourly Wage  \\\n",
              "0                  24610.00000                     32.0                11.11   \n",
              "1                  26455.47144                     63.5                11.11   \n",
              "2                  42300.09421                     25.0                11.11   \n",
              "3                   3212.00000                     34.0                11.11   \n",
              "4                  40662.83122                     27.0                11.11   \n",
              "\n",
              "   Fuel Rate /Gallon  Level of Disruption  Travel Time (hours)  \n",
              "0              4.044                    0             5.333333  \n",
              "1              4.044                    0            10.783333  \n",
              "2              4.044                    0             1.816667  \n",
              "3              4.044                    0             4.316667  \n",
              "4              4.044                    0             6.816667  "
            ],
            "text/html": [
              "\n",
              "  <div id=\"df-61d247bd-2182-4608-90ac-378d343be82d\" class=\"colab-df-container\">\n",
              "    <div>\n",
              "<style scoped>\n",
              "    .dataframe tbody tr th:only-of-type {\n",
              "        vertical-align: middle;\n",
              "    }\n",
              "\n",
              "    .dataframe tbody tr th {\n",
              "        vertical-align: top;\n",
              "    }\n",
              "\n",
              "    .dataframe thead th {\n",
              "        text-align: right;\n",
              "    }\n",
              "</style>\n",
              "<table border=\"1\" class=\"dataframe\">\n",
              "  <thead>\n",
              "    <tr style=\"text-align: right;\">\n",
              "      <th></th>\n",
              "      <th>Actual Pickup Month</th>\n",
              "      <th>Actual Pickup Day</th>\n",
              "      <th>Actual Pickup Year</th>\n",
              "      <th>Actual Delivery Month</th>\n",
              "      <th>Actual Delivery Day</th>\n",
              "      <th>Actual Delivery Year</th>\n",
              "      <th>Weight Unit of measure (LB)</th>\n",
              "      <th>Time Difference (Hours)</th>\n",
              "      <th>Average Hourly Wage</th>\n",
              "      <th>Fuel Rate /Gallon</th>\n",
              "      <th>Level of Disruption</th>\n",
              "      <th>Travel Time (hours)</th>\n",
              "    </tr>\n",
              "  </thead>\n",
              "  <tbody>\n",
              "    <tr>\n",
              "      <th>0</th>\n",
              "      <td>2</td>\n",
              "      <td>13</td>\n",
              "      <td>2024</td>\n",
              "      <td>2</td>\n",
              "      <td>14</td>\n",
              "      <td>2024</td>\n",
              "      <td>24610.00000</td>\n",
              "      <td>32.0</td>\n",
              "      <td>11.11</td>\n",
              "      <td>4.044</td>\n",
              "      <td>0</td>\n",
              "      <td>5.333333</td>\n",
              "    </tr>\n",
              "    <tr>\n",
              "      <th>1</th>\n",
              "      <td>2</td>\n",
              "      <td>16</td>\n",
              "      <td>2024</td>\n",
              "      <td>2</td>\n",
              "      <td>19</td>\n",
              "      <td>2024</td>\n",
              "      <td>26455.47144</td>\n",
              "      <td>63.5</td>\n",
              "      <td>11.11</td>\n",
              "      <td>4.044</td>\n",
              "      <td>0</td>\n",
              "      <td>10.783333</td>\n",
              "    </tr>\n",
              "    <tr>\n",
              "      <th>2</th>\n",
              "      <td>2</td>\n",
              "      <td>14</td>\n",
              "      <td>2024</td>\n",
              "      <td>2</td>\n",
              "      <td>15</td>\n",
              "      <td>2024</td>\n",
              "      <td>42300.09421</td>\n",
              "      <td>25.0</td>\n",
              "      <td>11.11</td>\n",
              "      <td>4.044</td>\n",
              "      <td>0</td>\n",
              "      <td>1.816667</td>\n",
              "    </tr>\n",
              "    <tr>\n",
              "      <th>3</th>\n",
              "      <td>2</td>\n",
              "      <td>12</td>\n",
              "      <td>2024</td>\n",
              "      <td>2</td>\n",
              "      <td>13</td>\n",
              "      <td>2024</td>\n",
              "      <td>3212.00000</td>\n",
              "      <td>34.0</td>\n",
              "      <td>11.11</td>\n",
              "      <td>4.044</td>\n",
              "      <td>0</td>\n",
              "      <td>4.316667</td>\n",
              "    </tr>\n",
              "    <tr>\n",
              "      <th>4</th>\n",
              "      <td>2</td>\n",
              "      <td>15</td>\n",
              "      <td>2024</td>\n",
              "      <td>2</td>\n",
              "      <td>16</td>\n",
              "      <td>2024</td>\n",
              "      <td>40662.83122</td>\n",
              "      <td>27.0</td>\n",
              "      <td>11.11</td>\n",
              "      <td>4.044</td>\n",
              "      <td>0</td>\n",
              "      <td>6.816667</td>\n",
              "    </tr>\n",
              "  </tbody>\n",
              "</table>\n",
              "</div>\n",
              "    <div class=\"colab-df-buttons\">\n",
              "\n",
              "  <div class=\"colab-df-container\">\n",
              "    <button class=\"colab-df-convert\" onclick=\"convertToInteractive('df-61d247bd-2182-4608-90ac-378d343be82d')\"\n",
              "            title=\"Convert this dataframe to an interactive table.\"\n",
              "            style=\"display:none;\">\n",
              "\n",
              "  <svg xmlns=\"http://www.w3.org/2000/svg\" height=\"24px\" viewBox=\"0 -960 960 960\">\n",
              "    <path d=\"M120-120v-720h720v720H120Zm60-500h600v-160H180v160Zm220 220h160v-160H400v160Zm0 220h160v-160H400v160ZM180-400h160v-160H180v160Zm440 0h160v-160H620v160ZM180-180h160v-160H180v160Zm440 0h160v-160H620v160Z\"/>\n",
              "  </svg>\n",
              "    </button>\n",
              "\n",
              "  <style>\n",
              "    .colab-df-container {\n",
              "      display:flex;\n",
              "      gap: 12px;\n",
              "    }\n",
              "\n",
              "    .colab-df-convert {\n",
              "      background-color: #E8F0FE;\n",
              "      border: none;\n",
              "      border-radius: 50%;\n",
              "      cursor: pointer;\n",
              "      display: none;\n",
              "      fill: #1967D2;\n",
              "      height: 32px;\n",
              "      padding: 0 0 0 0;\n",
              "      width: 32px;\n",
              "    }\n",
              "\n",
              "    .colab-df-convert:hover {\n",
              "      background-color: #E2EBFA;\n",
              "      box-shadow: 0px 1px 2px rgba(60, 64, 67, 0.3), 0px 1px 3px 1px rgba(60, 64, 67, 0.15);\n",
              "      fill: #174EA6;\n",
              "    }\n",
              "\n",
              "    .colab-df-buttons div {\n",
              "      margin-bottom: 4px;\n",
              "    }\n",
              "\n",
              "    [theme=dark] .colab-df-convert {\n",
              "      background-color: #3B4455;\n",
              "      fill: #D2E3FC;\n",
              "    }\n",
              "\n",
              "    [theme=dark] .colab-df-convert:hover {\n",
              "      background-color: #434B5C;\n",
              "      box-shadow: 0px 1px 3px 1px rgba(0, 0, 0, 0.15);\n",
              "      filter: drop-shadow(0px 1px 2px rgba(0, 0, 0, 0.3));\n",
              "      fill: #FFFFFF;\n",
              "    }\n",
              "  </style>\n",
              "\n",
              "    <script>\n",
              "      const buttonEl =\n",
              "        document.querySelector('#df-61d247bd-2182-4608-90ac-378d343be82d button.colab-df-convert');\n",
              "      buttonEl.style.display =\n",
              "        google.colab.kernel.accessAllowed ? 'block' : 'none';\n",
              "\n",
              "      async function convertToInteractive(key) {\n",
              "        const element = document.querySelector('#df-61d247bd-2182-4608-90ac-378d343be82d');\n",
              "        const dataTable =\n",
              "          await google.colab.kernel.invokeFunction('convertToInteractive',\n",
              "                                                    [key], {});\n",
              "        if (!dataTable) return;\n",
              "\n",
              "        const docLinkHtml = 'Like what you see? Visit the ' +\n",
              "          '<a target=\"_blank\" href=https://colab.research.google.com/notebooks/data_table.ipynb>data table notebook</a>'\n",
              "          + ' to learn more about interactive tables.';\n",
              "        element.innerHTML = '';\n",
              "        dataTable['output_type'] = 'display_data';\n",
              "        await google.colab.output.renderOutput(dataTable, element);\n",
              "        const docLink = document.createElement('div');\n",
              "        docLink.innerHTML = docLinkHtml;\n",
              "        element.appendChild(docLink);\n",
              "      }\n",
              "    </script>\n",
              "  </div>\n",
              "\n",
              "\n",
              "<div id=\"df-e9e9315b-81fc-4197-bd03-2ef58a7e7967\">\n",
              "  <button class=\"colab-df-quickchart\" onclick=\"quickchart('df-e9e9315b-81fc-4197-bd03-2ef58a7e7967')\"\n",
              "            title=\"Suggest charts\"\n",
              "            style=\"display:none;\">\n",
              "\n",
              "<svg xmlns=\"http://www.w3.org/2000/svg\" height=\"24px\"viewBox=\"0 0 24 24\"\n",
              "     width=\"24px\">\n",
              "    <g>\n",
              "        <path d=\"M19 3H5c-1.1 0-2 .9-2 2v14c0 1.1.9 2 2 2h14c1.1 0 2-.9 2-2V5c0-1.1-.9-2-2-2zM9 17H7v-7h2v7zm4 0h-2V7h2v10zm4 0h-2v-4h2v4z\"/>\n",
              "    </g>\n",
              "</svg>\n",
              "  </button>\n",
              "\n",
              "<style>\n",
              "  .colab-df-quickchart {\n",
              "      --bg-color: #E8F0FE;\n",
              "      --fill-color: #1967D2;\n",
              "      --hover-bg-color: #E2EBFA;\n",
              "      --hover-fill-color: #174EA6;\n",
              "      --disabled-fill-color: #AAA;\n",
              "      --disabled-bg-color: #DDD;\n",
              "  }\n",
              "\n",
              "  [theme=dark] .colab-df-quickchart {\n",
              "      --bg-color: #3B4455;\n",
              "      --fill-color: #D2E3FC;\n",
              "      --hover-bg-color: #434B5C;\n",
              "      --hover-fill-color: #FFFFFF;\n",
              "      --disabled-bg-color: #3B4455;\n",
              "      --disabled-fill-color: #666;\n",
              "  }\n",
              "\n",
              "  .colab-df-quickchart {\n",
              "    background-color: var(--bg-color);\n",
              "    border: none;\n",
              "    border-radius: 50%;\n",
              "    cursor: pointer;\n",
              "    display: none;\n",
              "    fill: var(--fill-color);\n",
              "    height: 32px;\n",
              "    padding: 0;\n",
              "    width: 32px;\n",
              "  }\n",
              "\n",
              "  .colab-df-quickchart:hover {\n",
              "    background-color: var(--hover-bg-color);\n",
              "    box-shadow: 0 1px 2px rgba(60, 64, 67, 0.3), 0 1px 3px 1px rgba(60, 64, 67, 0.15);\n",
              "    fill: var(--button-hover-fill-color);\n",
              "  }\n",
              "\n",
              "  .colab-df-quickchart-complete:disabled,\n",
              "  .colab-df-quickchart-complete:disabled:hover {\n",
              "    background-color: var(--disabled-bg-color);\n",
              "    fill: var(--disabled-fill-color);\n",
              "    box-shadow: none;\n",
              "  }\n",
              "\n",
              "  .colab-df-spinner {\n",
              "    border: 2px solid var(--fill-color);\n",
              "    border-color: transparent;\n",
              "    border-bottom-color: var(--fill-color);\n",
              "    animation:\n",
              "      spin 1s steps(1) infinite;\n",
              "  }\n",
              "\n",
              "  @keyframes spin {\n",
              "    0% {\n",
              "      border-color: transparent;\n",
              "      border-bottom-color: var(--fill-color);\n",
              "      border-left-color: var(--fill-color);\n",
              "    }\n",
              "    20% {\n",
              "      border-color: transparent;\n",
              "      border-left-color: var(--fill-color);\n",
              "      border-top-color: var(--fill-color);\n",
              "    }\n",
              "    30% {\n",
              "      border-color: transparent;\n",
              "      border-left-color: var(--fill-color);\n",
              "      border-top-color: var(--fill-color);\n",
              "      border-right-color: var(--fill-color);\n",
              "    }\n",
              "    40% {\n",
              "      border-color: transparent;\n",
              "      border-right-color: var(--fill-color);\n",
              "      border-top-color: var(--fill-color);\n",
              "    }\n",
              "    60% {\n",
              "      border-color: transparent;\n",
              "      border-right-color: var(--fill-color);\n",
              "    }\n",
              "    80% {\n",
              "      border-color: transparent;\n",
              "      border-right-color: var(--fill-color);\n",
              "      border-bottom-color: var(--fill-color);\n",
              "    }\n",
              "    90% {\n",
              "      border-color: transparent;\n",
              "      border-bottom-color: var(--fill-color);\n",
              "    }\n",
              "  }\n",
              "</style>\n",
              "\n",
              "  <script>\n",
              "    async function quickchart(key) {\n",
              "      const quickchartButtonEl =\n",
              "        document.querySelector('#' + key + ' button');\n",
              "      quickchartButtonEl.disabled = true;  // To prevent multiple clicks.\n",
              "      quickchartButtonEl.classList.add('colab-df-spinner');\n",
              "      try {\n",
              "        const charts = await google.colab.kernel.invokeFunction(\n",
              "            'suggestCharts', [key], {});\n",
              "      } catch (error) {\n",
              "        console.error('Error during call to suggestCharts:', error);\n",
              "      }\n",
              "      quickchartButtonEl.classList.remove('colab-df-spinner');\n",
              "      quickchartButtonEl.classList.add('colab-df-quickchart-complete');\n",
              "    }\n",
              "    (() => {\n",
              "      let quickchartButtonEl =\n",
              "        document.querySelector('#df-e9e9315b-81fc-4197-bd03-2ef58a7e7967 button');\n",
              "      quickchartButtonEl.style.display =\n",
              "        google.colab.kernel.accessAllowed ? 'block' : 'none';\n",
              "    })();\n",
              "  </script>\n",
              "</div>\n",
              "\n",
              "    </div>\n",
              "  </div>\n"
            ],
            "application/vnd.google.colaboratory.intrinsic+json": {
              "type": "dataframe",
              "variable_name": "X",
              "summary": "{\n  \"name\": \"X\",\n  \"rows\": 20816,\n  \"fields\": [\n    {\n      \"column\": \"Actual Pickup Month\",\n      \"properties\": {\n        \"dtype\": \"number\",\n        \"std\": 3,\n        \"min\": 1,\n        \"max\": 12,\n        \"num_unique_values\": 11,\n        \"samples\": [\n          10,\n          2,\n          6\n        ],\n        \"semantic_type\": \"\",\n        \"description\": \"\"\n      }\n    },\n    {\n      \"column\": \"Actual Pickup Day\",\n      \"properties\": {\n        \"dtype\": \"number\",\n        \"std\": 8,\n        \"min\": 1,\n        \"max\": 31,\n        \"num_unique_values\": 31,\n        \"samples\": [\n          18,\n          4,\n          25\n        ],\n        \"semantic_type\": \"\",\n        \"description\": \"\"\n      }\n    },\n    {\n      \"column\": \"Actual Pickup Year\",\n      \"properties\": {\n        \"dtype\": \"number\",\n        \"std\": 0,\n        \"min\": 2021,\n        \"max\": 2024,\n        \"num_unique_values\": 4,\n        \"samples\": [\n          2023,\n          2021,\n          2024\n        ],\n        \"semantic_type\": \"\",\n        \"description\": \"\"\n      }\n    },\n    {\n      \"column\": \"Actual Delivery Month\",\n      \"properties\": {\n        \"dtype\": \"number\",\n        \"std\": 3,\n        \"min\": 1,\n        \"max\": 12,\n        \"num_unique_values\": 12,\n        \"samples\": [\n          4,\n          5,\n          2\n        ],\n        \"semantic_type\": \"\",\n        \"description\": \"\"\n      }\n    },\n    {\n      \"column\": \"Actual Delivery Day\",\n      \"properties\": {\n        \"dtype\": \"number\",\n        \"std\": 8,\n        \"min\": 1,\n        \"max\": 31,\n        \"num_unique_values\": 31,\n        \"samples\": [\n          25,\n          4,\n          30\n        ],\n        \"semantic_type\": \"\",\n        \"description\": \"\"\n      }\n    },\n    {\n      \"column\": \"Actual Delivery Year\",\n      \"properties\": {\n        \"dtype\": \"number\",\n        \"std\": 0,\n        \"min\": 2021,\n        \"max\": 2024,\n        \"num_unique_values\": 4,\n        \"samples\": [\n          2023,\n          2021,\n          2024\n        ],\n        \"semantic_type\": \"\",\n        \"description\": \"\"\n      }\n    },\n    {\n      \"column\": \"Weight Unit of measure (LB)\",\n      \"properties\": {\n        \"dtype\": \"number\",\n        \"std\": 12540.84360073863,\n        \"min\": 0.0,\n        \"max\": 69130.66014,\n        \"num_unique_values\": 12374,\n        \"samples\": [\n          24162.0,\n          20770.05835,\n          666.0\n        ],\n        \"semantic_type\": \"\",\n        \"description\": \"\"\n      }\n    },\n    {\n      \"column\": \"Time Difference (Hours)\",\n      \"properties\": {\n        \"dtype\": \"number\",\n        \"std\": 25.587679282762327,\n        \"min\": -27.83333333,\n        \"max\": 117.3333333,\n        \"num_unique_values\": 4665,\n        \"samples\": [\n          53.08333333,\n          47.88333333,\n          49.48333333\n        ],\n        \"semantic_type\": \"\",\n        \"description\": \"\"\n      }\n    },\n    {\n      \"column\": \"Average Hourly Wage\",\n      \"properties\": {\n        \"dtype\": \"number\",\n        \"std\": 0.08988990565160856,\n        \"min\": 10.92,\n        \"max\": 11.3,\n        \"num_unique_values\": 25,\n        \"samples\": [\n          11.09,\n          11.07,\n          11.11\n        ],\n        \"semantic_type\": \"\",\n        \"description\": \"\"\n      }\n    },\n    {\n      \"column\": \"Fuel Rate /Gallon\",\n      \"properties\": {\n        \"dtype\": \"number\",\n        \"std\": 0.6740051864684431,\n        \"min\": 3.217,\n        \"max\": 5.754,\n        \"num_unique_values\": 34,\n        \"samples\": [\n          4.576,\n          4.993,\n          3.641\n        ],\n        \"semantic_type\": \"\",\n        \"description\": \"\"\n      }\n    },\n    {\n      \"column\": \"Level of Disruption\",\n      \"properties\": {\n        \"dtype\": \"number\",\n        \"std\": 0,\n        \"min\": 0,\n        \"max\": 2,\n        \"num_unique_values\": 3,\n        \"samples\": [\n          0,\n          2,\n          1\n        ],\n        \"semantic_type\": \"\",\n        \"description\": \"\"\n      }\n    },\n    {\n      \"column\": \"Travel Time (hours)\",\n      \"properties\": {\n        \"dtype\": \"number\",\n        \"std\": 5.557391311547188,\n        \"min\": 1.0,\n        \"max\": 24.0,\n        \"num_unique_values\": 954,\n        \"samples\": [\n          4.866666666666667,\n          9.666666666666666,\n          19.416666666666668\n        ],\n        \"semantic_type\": \"\",\n        \"description\": \"\"\n      }\n    }\n  ]\n}"
            }
          },
          "metadata": {},
          "execution_count": 13
        }
      ]
    },
    {
      "cell_type": "code",
      "source": [
        "# Preprocessing for numerical data: Scaling\n",
        "numerical_cols = [cname for cname in X.columns if X[cname].dtype in ['int64', 'float64']]\n",
        "numerical_transformer = Pipeline(steps=[\n",
        "    ('scaler', StandardScaler())\n",
        "])\n",
        "\n",
        "# Bundle preprocessing for numerical data\n",
        "preprocessor = ColumnTransformer(\n",
        "    transformers=[\n",
        "        ('num', numerical_transformer, numerical_cols)\n",
        "    ])\n",
        "\n",
        "# Define the model with Ridge Regression\n",
        "model = Pipeline(steps=[\n",
        "    ('preprocessor', preprocessor),\n",
        "    ('regressor', Ridge(alpha=1.0))\n",
        "])\n"
      ],
      "metadata": {
        "id": "JLsR2GRBP7U6"
      },
      "execution_count": 14,
      "outputs": []
    },
    {
      "cell_type": "code",
      "source": [
        "# Splitting the data into training and testing sets\n",
        "X_train, X_test, y_train, y_test = train_test_split(X, y, test_size=0.2, random_state=42)\n"
      ],
      "metadata": {
        "id": "uYp7HbeoP7YL"
      },
      "execution_count": 15,
      "outputs": []
    },
    {
      "cell_type": "code",
      "source": [
        "X_train.head()"
      ],
      "metadata": {
        "colab": {
          "base_uri": "https://localhost:8080/",
          "height": 224
        },
        "id": "kcuzZg5KfodB",
        "outputId": "7ce88a94-59fd-43f9-e94e-e3426c8d0b9f"
      },
      "execution_count": 16,
      "outputs": [
        {
          "output_type": "execute_result",
          "data": {
            "text/plain": [
              "       Actual Pickup Month  Actual Pickup Day  Actual Pickup Year  \\\n",
              "15298                    7                  5                2022   \n",
              "18433                    4                 14                2022   \n",
              "16322                    6                  2                2022   \n",
              "10154                   12                 16                2022   \n",
              "11236                   11                  7                2022   \n",
              "\n",
              "       Actual Delivery Month  Actual Delivery Day  Actual Delivery Year  \\\n",
              "15298                      7                    8                  2022   \n",
              "18433                      4                   18                  2022   \n",
              "16322                      6                    6                  2022   \n",
              "10154                     12                   20                  2022   \n",
              "11236                     11                    8                  2022   \n",
              "\n",
              "       Weight Unit of measure (LB)  Time Difference (Hours)  \\\n",
              "15298                  39592.61922                65.716667   \n",
              "18433                  26058.63937                97.666667   \n",
              "16322                  41333.01445                90.983333   \n",
              "10154                  10303.00000                98.000000   \n",
              "11236                  40000.00000                27.333333   \n",
              "\n",
              "       Average Hourly Wage  Fuel Rate /Gallon  Level of Disruption  \\\n",
              "15298                10.97              5.486                    1   \n",
              "18433                11.04              5.120                    1   \n",
              "16322                10.92              5.754                    1   \n",
              "10154                11.01              4.714                    0   \n",
              "11236                10.98              5.255                    0   \n",
              "\n",
              "       Travel Time (hours)  \n",
              "15298             8.816667  \n",
              "18433             7.866667  \n",
              "16322             4.033333  \n",
              "10154             1.266667  \n",
              "11236             8.883333  "
            ],
            "text/html": [
              "\n",
              "  <div id=\"df-05f9a971-c256-44e3-a85a-08cf073f2eb5\" class=\"colab-df-container\">\n",
              "    <div>\n",
              "<style scoped>\n",
              "    .dataframe tbody tr th:only-of-type {\n",
              "        vertical-align: middle;\n",
              "    }\n",
              "\n",
              "    .dataframe tbody tr th {\n",
              "        vertical-align: top;\n",
              "    }\n",
              "\n",
              "    .dataframe thead th {\n",
              "        text-align: right;\n",
              "    }\n",
              "</style>\n",
              "<table border=\"1\" class=\"dataframe\">\n",
              "  <thead>\n",
              "    <tr style=\"text-align: right;\">\n",
              "      <th></th>\n",
              "      <th>Actual Pickup Month</th>\n",
              "      <th>Actual Pickup Day</th>\n",
              "      <th>Actual Pickup Year</th>\n",
              "      <th>Actual Delivery Month</th>\n",
              "      <th>Actual Delivery Day</th>\n",
              "      <th>Actual Delivery Year</th>\n",
              "      <th>Weight Unit of measure (LB)</th>\n",
              "      <th>Time Difference (Hours)</th>\n",
              "      <th>Average Hourly Wage</th>\n",
              "      <th>Fuel Rate /Gallon</th>\n",
              "      <th>Level of Disruption</th>\n",
              "      <th>Travel Time (hours)</th>\n",
              "    </tr>\n",
              "  </thead>\n",
              "  <tbody>\n",
              "    <tr>\n",
              "      <th>15298</th>\n",
              "      <td>7</td>\n",
              "      <td>5</td>\n",
              "      <td>2022</td>\n",
              "      <td>7</td>\n",
              "      <td>8</td>\n",
              "      <td>2022</td>\n",
              "      <td>39592.61922</td>\n",
              "      <td>65.716667</td>\n",
              "      <td>10.97</td>\n",
              "      <td>5.486</td>\n",
              "      <td>1</td>\n",
              "      <td>8.816667</td>\n",
              "    </tr>\n",
              "    <tr>\n",
              "      <th>18433</th>\n",
              "      <td>4</td>\n",
              "      <td>14</td>\n",
              "      <td>2022</td>\n",
              "      <td>4</td>\n",
              "      <td>18</td>\n",
              "      <td>2022</td>\n",
              "      <td>26058.63937</td>\n",
              "      <td>97.666667</td>\n",
              "      <td>11.04</td>\n",
              "      <td>5.120</td>\n",
              "      <td>1</td>\n",
              "      <td>7.866667</td>\n",
              "    </tr>\n",
              "    <tr>\n",
              "      <th>16322</th>\n",
              "      <td>6</td>\n",
              "      <td>2</td>\n",
              "      <td>2022</td>\n",
              "      <td>6</td>\n",
              "      <td>6</td>\n",
              "      <td>2022</td>\n",
              "      <td>41333.01445</td>\n",
              "      <td>90.983333</td>\n",
              "      <td>10.92</td>\n",
              "      <td>5.754</td>\n",
              "      <td>1</td>\n",
              "      <td>4.033333</td>\n",
              "    </tr>\n",
              "    <tr>\n",
              "      <th>10154</th>\n",
              "      <td>12</td>\n",
              "      <td>16</td>\n",
              "      <td>2022</td>\n",
              "      <td>12</td>\n",
              "      <td>20</td>\n",
              "      <td>2022</td>\n",
              "      <td>10303.00000</td>\n",
              "      <td>98.000000</td>\n",
              "      <td>11.01</td>\n",
              "      <td>4.714</td>\n",
              "      <td>0</td>\n",
              "      <td>1.266667</td>\n",
              "    </tr>\n",
              "    <tr>\n",
              "      <th>11236</th>\n",
              "      <td>11</td>\n",
              "      <td>7</td>\n",
              "      <td>2022</td>\n",
              "      <td>11</td>\n",
              "      <td>8</td>\n",
              "      <td>2022</td>\n",
              "      <td>40000.00000</td>\n",
              "      <td>27.333333</td>\n",
              "      <td>10.98</td>\n",
              "      <td>5.255</td>\n",
              "      <td>0</td>\n",
              "      <td>8.883333</td>\n",
              "    </tr>\n",
              "  </tbody>\n",
              "</table>\n",
              "</div>\n",
              "    <div class=\"colab-df-buttons\">\n",
              "\n",
              "  <div class=\"colab-df-container\">\n",
              "    <button class=\"colab-df-convert\" onclick=\"convertToInteractive('df-05f9a971-c256-44e3-a85a-08cf073f2eb5')\"\n",
              "            title=\"Convert this dataframe to an interactive table.\"\n",
              "            style=\"display:none;\">\n",
              "\n",
              "  <svg xmlns=\"http://www.w3.org/2000/svg\" height=\"24px\" viewBox=\"0 -960 960 960\">\n",
              "    <path d=\"M120-120v-720h720v720H120Zm60-500h600v-160H180v160Zm220 220h160v-160H400v160Zm0 220h160v-160H400v160ZM180-400h160v-160H180v160Zm440 0h160v-160H620v160ZM180-180h160v-160H180v160Zm440 0h160v-160H620v160Z\"/>\n",
              "  </svg>\n",
              "    </button>\n",
              "\n",
              "  <style>\n",
              "    .colab-df-container {\n",
              "      display:flex;\n",
              "      gap: 12px;\n",
              "    }\n",
              "\n",
              "    .colab-df-convert {\n",
              "      background-color: #E8F0FE;\n",
              "      border: none;\n",
              "      border-radius: 50%;\n",
              "      cursor: pointer;\n",
              "      display: none;\n",
              "      fill: #1967D2;\n",
              "      height: 32px;\n",
              "      padding: 0 0 0 0;\n",
              "      width: 32px;\n",
              "    }\n",
              "\n",
              "    .colab-df-convert:hover {\n",
              "      background-color: #E2EBFA;\n",
              "      box-shadow: 0px 1px 2px rgba(60, 64, 67, 0.3), 0px 1px 3px 1px rgba(60, 64, 67, 0.15);\n",
              "      fill: #174EA6;\n",
              "    }\n",
              "\n",
              "    .colab-df-buttons div {\n",
              "      margin-bottom: 4px;\n",
              "    }\n",
              "\n",
              "    [theme=dark] .colab-df-convert {\n",
              "      background-color: #3B4455;\n",
              "      fill: #D2E3FC;\n",
              "    }\n",
              "\n",
              "    [theme=dark] .colab-df-convert:hover {\n",
              "      background-color: #434B5C;\n",
              "      box-shadow: 0px 1px 3px 1px rgba(0, 0, 0, 0.15);\n",
              "      filter: drop-shadow(0px 1px 2px rgba(0, 0, 0, 0.3));\n",
              "      fill: #FFFFFF;\n",
              "    }\n",
              "  </style>\n",
              "\n",
              "    <script>\n",
              "      const buttonEl =\n",
              "        document.querySelector('#df-05f9a971-c256-44e3-a85a-08cf073f2eb5 button.colab-df-convert');\n",
              "      buttonEl.style.display =\n",
              "        google.colab.kernel.accessAllowed ? 'block' : 'none';\n",
              "\n",
              "      async function convertToInteractive(key) {\n",
              "        const element = document.querySelector('#df-05f9a971-c256-44e3-a85a-08cf073f2eb5');\n",
              "        const dataTable =\n",
              "          await google.colab.kernel.invokeFunction('convertToInteractive',\n",
              "                                                    [key], {});\n",
              "        if (!dataTable) return;\n",
              "\n",
              "        const docLinkHtml = 'Like what you see? Visit the ' +\n",
              "          '<a target=\"_blank\" href=https://colab.research.google.com/notebooks/data_table.ipynb>data table notebook</a>'\n",
              "          + ' to learn more about interactive tables.';\n",
              "        element.innerHTML = '';\n",
              "        dataTable['output_type'] = 'display_data';\n",
              "        await google.colab.output.renderOutput(dataTable, element);\n",
              "        const docLink = document.createElement('div');\n",
              "        docLink.innerHTML = docLinkHtml;\n",
              "        element.appendChild(docLink);\n",
              "      }\n",
              "    </script>\n",
              "  </div>\n",
              "\n",
              "\n",
              "<div id=\"df-8b36055a-a2ec-4008-9e22-bae629050476\">\n",
              "  <button class=\"colab-df-quickchart\" onclick=\"quickchart('df-8b36055a-a2ec-4008-9e22-bae629050476')\"\n",
              "            title=\"Suggest charts\"\n",
              "            style=\"display:none;\">\n",
              "\n",
              "<svg xmlns=\"http://www.w3.org/2000/svg\" height=\"24px\"viewBox=\"0 0 24 24\"\n",
              "     width=\"24px\">\n",
              "    <g>\n",
              "        <path d=\"M19 3H5c-1.1 0-2 .9-2 2v14c0 1.1.9 2 2 2h14c1.1 0 2-.9 2-2V5c0-1.1-.9-2-2-2zM9 17H7v-7h2v7zm4 0h-2V7h2v10zm4 0h-2v-4h2v4z\"/>\n",
              "    </g>\n",
              "</svg>\n",
              "  </button>\n",
              "\n",
              "<style>\n",
              "  .colab-df-quickchart {\n",
              "      --bg-color: #E8F0FE;\n",
              "      --fill-color: #1967D2;\n",
              "      --hover-bg-color: #E2EBFA;\n",
              "      --hover-fill-color: #174EA6;\n",
              "      --disabled-fill-color: #AAA;\n",
              "      --disabled-bg-color: #DDD;\n",
              "  }\n",
              "\n",
              "  [theme=dark] .colab-df-quickchart {\n",
              "      --bg-color: #3B4455;\n",
              "      --fill-color: #D2E3FC;\n",
              "      --hover-bg-color: #434B5C;\n",
              "      --hover-fill-color: #FFFFFF;\n",
              "      --disabled-bg-color: #3B4455;\n",
              "      --disabled-fill-color: #666;\n",
              "  }\n",
              "\n",
              "  .colab-df-quickchart {\n",
              "    background-color: var(--bg-color);\n",
              "    border: none;\n",
              "    border-radius: 50%;\n",
              "    cursor: pointer;\n",
              "    display: none;\n",
              "    fill: var(--fill-color);\n",
              "    height: 32px;\n",
              "    padding: 0;\n",
              "    width: 32px;\n",
              "  }\n",
              "\n",
              "  .colab-df-quickchart:hover {\n",
              "    background-color: var(--hover-bg-color);\n",
              "    box-shadow: 0 1px 2px rgba(60, 64, 67, 0.3), 0 1px 3px 1px rgba(60, 64, 67, 0.15);\n",
              "    fill: var(--button-hover-fill-color);\n",
              "  }\n",
              "\n",
              "  .colab-df-quickchart-complete:disabled,\n",
              "  .colab-df-quickchart-complete:disabled:hover {\n",
              "    background-color: var(--disabled-bg-color);\n",
              "    fill: var(--disabled-fill-color);\n",
              "    box-shadow: none;\n",
              "  }\n",
              "\n",
              "  .colab-df-spinner {\n",
              "    border: 2px solid var(--fill-color);\n",
              "    border-color: transparent;\n",
              "    border-bottom-color: var(--fill-color);\n",
              "    animation:\n",
              "      spin 1s steps(1) infinite;\n",
              "  }\n",
              "\n",
              "  @keyframes spin {\n",
              "    0% {\n",
              "      border-color: transparent;\n",
              "      border-bottom-color: var(--fill-color);\n",
              "      border-left-color: var(--fill-color);\n",
              "    }\n",
              "    20% {\n",
              "      border-color: transparent;\n",
              "      border-left-color: var(--fill-color);\n",
              "      border-top-color: var(--fill-color);\n",
              "    }\n",
              "    30% {\n",
              "      border-color: transparent;\n",
              "      border-left-color: var(--fill-color);\n",
              "      border-top-color: var(--fill-color);\n",
              "      border-right-color: var(--fill-color);\n",
              "    }\n",
              "    40% {\n",
              "      border-color: transparent;\n",
              "      border-right-color: var(--fill-color);\n",
              "      border-top-color: var(--fill-color);\n",
              "    }\n",
              "    60% {\n",
              "      border-color: transparent;\n",
              "      border-right-color: var(--fill-color);\n",
              "    }\n",
              "    80% {\n",
              "      border-color: transparent;\n",
              "      border-right-color: var(--fill-color);\n",
              "      border-bottom-color: var(--fill-color);\n",
              "    }\n",
              "    90% {\n",
              "      border-color: transparent;\n",
              "      border-bottom-color: var(--fill-color);\n",
              "    }\n",
              "  }\n",
              "</style>\n",
              "\n",
              "  <script>\n",
              "    async function quickchart(key) {\n",
              "      const quickchartButtonEl =\n",
              "        document.querySelector('#' + key + ' button');\n",
              "      quickchartButtonEl.disabled = true;  // To prevent multiple clicks.\n",
              "      quickchartButtonEl.classList.add('colab-df-spinner');\n",
              "      try {\n",
              "        const charts = await google.colab.kernel.invokeFunction(\n",
              "            'suggestCharts', [key], {});\n",
              "      } catch (error) {\n",
              "        console.error('Error during call to suggestCharts:', error);\n",
              "      }\n",
              "      quickchartButtonEl.classList.remove('colab-df-spinner');\n",
              "      quickchartButtonEl.classList.add('colab-df-quickchart-complete');\n",
              "    }\n",
              "    (() => {\n",
              "      let quickchartButtonEl =\n",
              "        document.querySelector('#df-8b36055a-a2ec-4008-9e22-bae629050476 button');\n",
              "      quickchartButtonEl.style.display =\n",
              "        google.colab.kernel.accessAllowed ? 'block' : 'none';\n",
              "    })();\n",
              "  </script>\n",
              "</div>\n",
              "\n",
              "    </div>\n",
              "  </div>\n"
            ],
            "application/vnd.google.colaboratory.intrinsic+json": {
              "type": "dataframe",
              "variable_name": "X_train",
              "summary": "{\n  \"name\": \"X_train\",\n  \"rows\": 16652,\n  \"fields\": [\n    {\n      \"column\": \"Actual Pickup Month\",\n      \"properties\": {\n        \"dtype\": \"number\",\n        \"std\": 3,\n        \"min\": 1,\n        \"max\": 12,\n        \"num_unique_values\": 11,\n        \"samples\": [\n          1,\n          7,\n          2\n        ],\n        \"semantic_type\": \"\",\n        \"description\": \"\"\n      }\n    },\n    {\n      \"column\": \"Actual Pickup Day\",\n      \"properties\": {\n        \"dtype\": \"number\",\n        \"std\": 8,\n        \"min\": 1,\n        \"max\": 31,\n        \"num_unique_values\": 31,\n        \"samples\": [\n          3,\n          12,\n          21\n        ],\n        \"semantic_type\": \"\",\n        \"description\": \"\"\n      }\n    },\n    {\n      \"column\": \"Actual Pickup Year\",\n      \"properties\": {\n        \"dtype\": \"number\",\n        \"std\": 0,\n        \"min\": 2021,\n        \"max\": 2024,\n        \"num_unique_values\": 4,\n        \"samples\": [\n          2023,\n          2021,\n          2022\n        ],\n        \"semantic_type\": \"\",\n        \"description\": \"\"\n      }\n    },\n    {\n      \"column\": \"Actual Delivery Month\",\n      \"properties\": {\n        \"dtype\": \"number\",\n        \"std\": 3,\n        \"min\": 1,\n        \"max\": 12,\n        \"num_unique_values\": 12,\n        \"samples\": [\n          10,\n          8,\n          7\n        ],\n        \"semantic_type\": \"\",\n        \"description\": \"\"\n      }\n    },\n    {\n      \"column\": \"Actual Delivery Day\",\n      \"properties\": {\n        \"dtype\": \"number\",\n        \"std\": 8,\n        \"min\": 1,\n        \"max\": 31,\n        \"num_unique_values\": 31,\n        \"samples\": [\n          17,\n          10,\n          24\n        ],\n        \"semantic_type\": \"\",\n        \"description\": \"\"\n      }\n    },\n    {\n      \"column\": \"Actual Delivery Year\",\n      \"properties\": {\n        \"dtype\": \"number\",\n        \"std\": 0,\n        \"min\": 2021,\n        \"max\": 2024,\n        \"num_unique_values\": 4,\n        \"samples\": [\n          2023,\n          2021,\n          2022\n        ],\n        \"semantic_type\": \"\",\n        \"description\": \"\"\n      }\n    },\n    {\n      \"column\": \"Weight Unit of measure (LB)\",\n      \"properties\": {\n        \"dtype\": \"number\",\n        \"std\": 12569.681094077914,\n        \"min\": 0.0,\n        \"max\": 69130.66014,\n        \"num_unique_values\": 10137,\n        \"samples\": [\n          28227.32664,\n          34987.0,\n          24039.183\n        ],\n        \"semantic_type\": \"\",\n        \"description\": \"\"\n      }\n    },\n    {\n      \"column\": \"Time Difference (Hours)\",\n      \"properties\": {\n        \"dtype\": \"number\",\n        \"std\": 25.606506558500392,\n        \"min\": -27.83333333,\n        \"max\": 117.3333333,\n        \"num_unique_values\": 4296,\n        \"samples\": [\n          29.55,\n          50.98333333,\n          13.28333333\n        ],\n        \"semantic_type\": \"\",\n        \"description\": \"\"\n      }\n    },\n    {\n      \"column\": \"Average Hourly Wage\",\n      \"properties\": {\n        \"dtype\": \"number\",\n        \"std\": 0.08984675850771545,\n        \"min\": 10.92,\n        \"max\": 11.3,\n        \"num_unique_values\": 25,\n        \"samples\": [\n          10.99,\n          11.2,\n          10.97\n        ],\n        \"semantic_type\": \"\",\n        \"description\": \"\"\n      }\n    },\n    {\n      \"column\": \"Fuel Rate /Gallon\",\n      \"properties\": {\n        \"dtype\": \"number\",\n        \"std\": 0.6745284358004562,\n        \"min\": 3.217,\n        \"max\": 5.754,\n        \"num_unique_values\": 34,\n        \"samples\": [\n          3.612,\n          3.802,\n          3.384\n        ],\n        \"semantic_type\": \"\",\n        \"description\": \"\"\n      }\n    },\n    {\n      \"column\": \"Level of Disruption\",\n      \"properties\": {\n        \"dtype\": \"number\",\n        \"std\": 0,\n        \"min\": 0,\n        \"max\": 2,\n        \"num_unique_values\": 3,\n        \"samples\": [\n          1,\n          0,\n          2\n        ],\n        \"semantic_type\": \"\",\n        \"description\": \"\"\n      }\n    },\n    {\n      \"column\": \"Travel Time (hours)\",\n      \"properties\": {\n        \"dtype\": \"number\",\n        \"std\": 5.543490296350862,\n        \"min\": 1.0,\n        \"max\": 24.0,\n        \"num_unique_values\": 925,\n        \"samples\": [\n          5.316666666666666,\n          10.633333333333333,\n          12.65\n        ],\n        \"semantic_type\": \"\",\n        \"description\": \"\"\n      }\n    }\n  ]\n}"
            }
          },
          "metadata": {},
          "execution_count": 16
        }
      ]
    },
    {
      "cell_type": "code",
      "source": [
        "# Training the model\n",
        "model.fit(X_train, y_train)\n"
      ],
      "metadata": {
        "colab": {
          "base_uri": "https://localhost:8080/",
          "height": 193
        },
        "id": "m9DRpOcqP7bW",
        "outputId": "3d83a788-60ed-411f-a86c-4cad67bfec73"
      },
      "execution_count": 17,
      "outputs": [
        {
          "output_type": "execute_result",
          "data": {
            "text/plain": [
              "Pipeline(steps=[('preprocessor',\n",
              "                 ColumnTransformer(transformers=[('num',\n",
              "                                                  Pipeline(steps=[('scaler',\n",
              "                                                                   StandardScaler())]),\n",
              "                                                  ['Actual Pickup Month',\n",
              "                                                   'Actual Pickup Day',\n",
              "                                                   'Actual Pickup Year',\n",
              "                                                   'Actual Delivery Month',\n",
              "                                                   'Actual Delivery Day',\n",
              "                                                   'Actual Delivery Year',\n",
              "                                                   'Weight Unit of measure '\n",
              "                                                   '(LB)',\n",
              "                                                   'Time Difference (Hours)',\n",
              "                                                   'Average Hourly Wage',\n",
              "                                                   'Fuel Rate /Gallon',\n",
              "                                                   'Level of Disruption',\n",
              "                                                   'Travel Time (hours)'])])),\n",
              "                ('regressor', Ridge())])"
            ],
            "text/html": [
              "<style>#sk-container-id-1 {color: black;background-color: white;}#sk-container-id-1 pre{padding: 0;}#sk-container-id-1 div.sk-toggleable {background-color: white;}#sk-container-id-1 label.sk-toggleable__label {cursor: pointer;display: block;width: 100%;margin-bottom: 0;padding: 0.3em;box-sizing: border-box;text-align: center;}#sk-container-id-1 label.sk-toggleable__label-arrow:before {content: \"▸\";float: left;margin-right: 0.25em;color: #696969;}#sk-container-id-1 label.sk-toggleable__label-arrow:hover:before {color: black;}#sk-container-id-1 div.sk-estimator:hover label.sk-toggleable__label-arrow:before {color: black;}#sk-container-id-1 div.sk-toggleable__content {max-height: 0;max-width: 0;overflow: hidden;text-align: left;background-color: #f0f8ff;}#sk-container-id-1 div.sk-toggleable__content pre {margin: 0.2em;color: black;border-radius: 0.25em;background-color: #f0f8ff;}#sk-container-id-1 input.sk-toggleable__control:checked~div.sk-toggleable__content {max-height: 200px;max-width: 100%;overflow: auto;}#sk-container-id-1 input.sk-toggleable__control:checked~label.sk-toggleable__label-arrow:before {content: \"▾\";}#sk-container-id-1 div.sk-estimator input.sk-toggleable__control:checked~label.sk-toggleable__label {background-color: #d4ebff;}#sk-container-id-1 div.sk-label input.sk-toggleable__control:checked~label.sk-toggleable__label {background-color: #d4ebff;}#sk-container-id-1 input.sk-hidden--visually {border: 0;clip: rect(1px 1px 1px 1px);clip: rect(1px, 1px, 1px, 1px);height: 1px;margin: -1px;overflow: hidden;padding: 0;position: absolute;width: 1px;}#sk-container-id-1 div.sk-estimator {font-family: monospace;background-color: #f0f8ff;border: 1px dotted black;border-radius: 0.25em;box-sizing: border-box;margin-bottom: 0.5em;}#sk-container-id-1 div.sk-estimator:hover {background-color: #d4ebff;}#sk-container-id-1 div.sk-parallel-item::after {content: \"\";width: 100%;border-bottom: 1px solid gray;flex-grow: 1;}#sk-container-id-1 div.sk-label:hover label.sk-toggleable__label {background-color: #d4ebff;}#sk-container-id-1 div.sk-serial::before {content: \"\";position: absolute;border-left: 1px solid gray;box-sizing: border-box;top: 0;bottom: 0;left: 50%;z-index: 0;}#sk-container-id-1 div.sk-serial {display: flex;flex-direction: column;align-items: center;background-color: white;padding-right: 0.2em;padding-left: 0.2em;position: relative;}#sk-container-id-1 div.sk-item {position: relative;z-index: 1;}#sk-container-id-1 div.sk-parallel {display: flex;align-items: stretch;justify-content: center;background-color: white;position: relative;}#sk-container-id-1 div.sk-item::before, #sk-container-id-1 div.sk-parallel-item::before {content: \"\";position: absolute;border-left: 1px solid gray;box-sizing: border-box;top: 0;bottom: 0;left: 50%;z-index: -1;}#sk-container-id-1 div.sk-parallel-item {display: flex;flex-direction: column;z-index: 1;position: relative;background-color: white;}#sk-container-id-1 div.sk-parallel-item:first-child::after {align-self: flex-end;width: 50%;}#sk-container-id-1 div.sk-parallel-item:last-child::after {align-self: flex-start;width: 50%;}#sk-container-id-1 div.sk-parallel-item:only-child::after {width: 0;}#sk-container-id-1 div.sk-dashed-wrapped {border: 1px dashed gray;margin: 0 0.4em 0.5em 0.4em;box-sizing: border-box;padding-bottom: 0.4em;background-color: white;}#sk-container-id-1 div.sk-label label {font-family: monospace;font-weight: bold;display: inline-block;line-height: 1.2em;}#sk-container-id-1 div.sk-label-container {text-align: center;}#sk-container-id-1 div.sk-container {/* jupyter's `normalize.less` sets `[hidden] { display: none; }` but bootstrap.min.css set `[hidden] { display: none !important; }` so we also need the `!important` here to be able to override the default hidden behavior on the sphinx rendered scikit-learn.org. See: https://github.com/scikit-learn/scikit-learn/issues/21755 */display: inline-block !important;position: relative;}#sk-container-id-1 div.sk-text-repr-fallback {display: none;}</style><div id=\"sk-container-id-1\" class=\"sk-top-container\"><div class=\"sk-text-repr-fallback\"><pre>Pipeline(steps=[(&#x27;preprocessor&#x27;,\n",
              "                 ColumnTransformer(transformers=[(&#x27;num&#x27;,\n",
              "                                                  Pipeline(steps=[(&#x27;scaler&#x27;,\n",
              "                                                                   StandardScaler())]),\n",
              "                                                  [&#x27;Actual Pickup Month&#x27;,\n",
              "                                                   &#x27;Actual Pickup Day&#x27;,\n",
              "                                                   &#x27;Actual Pickup Year&#x27;,\n",
              "                                                   &#x27;Actual Delivery Month&#x27;,\n",
              "                                                   &#x27;Actual Delivery Day&#x27;,\n",
              "                                                   &#x27;Actual Delivery Year&#x27;,\n",
              "                                                   &#x27;Weight Unit of measure &#x27;\n",
              "                                                   &#x27;(LB)&#x27;,\n",
              "                                                   &#x27;Time Difference (Hours)&#x27;,\n",
              "                                                   &#x27;Average Hourly Wage&#x27;,\n",
              "                                                   &#x27;Fuel Rate /Gallon&#x27;,\n",
              "                                                   &#x27;Level of Disruption&#x27;,\n",
              "                                                   &#x27;Travel Time (hours)&#x27;])])),\n",
              "                (&#x27;regressor&#x27;, Ridge())])</pre><b>In a Jupyter environment, please rerun this cell to show the HTML representation or trust the notebook. <br />On GitHub, the HTML representation is unable to render, please try loading this page with nbviewer.org.</b></div><div class=\"sk-container\" hidden><div class=\"sk-item sk-dashed-wrapped\"><div class=\"sk-label-container\"><div class=\"sk-label sk-toggleable\"><input class=\"sk-toggleable__control sk-hidden--visually\" id=\"sk-estimator-id-1\" type=\"checkbox\" ><label for=\"sk-estimator-id-1\" class=\"sk-toggleable__label sk-toggleable__label-arrow\">Pipeline</label><div class=\"sk-toggleable__content\"><pre>Pipeline(steps=[(&#x27;preprocessor&#x27;,\n",
              "                 ColumnTransformer(transformers=[(&#x27;num&#x27;,\n",
              "                                                  Pipeline(steps=[(&#x27;scaler&#x27;,\n",
              "                                                                   StandardScaler())]),\n",
              "                                                  [&#x27;Actual Pickup Month&#x27;,\n",
              "                                                   &#x27;Actual Pickup Day&#x27;,\n",
              "                                                   &#x27;Actual Pickup Year&#x27;,\n",
              "                                                   &#x27;Actual Delivery Month&#x27;,\n",
              "                                                   &#x27;Actual Delivery Day&#x27;,\n",
              "                                                   &#x27;Actual Delivery Year&#x27;,\n",
              "                                                   &#x27;Weight Unit of measure &#x27;\n",
              "                                                   &#x27;(LB)&#x27;,\n",
              "                                                   &#x27;Time Difference (Hours)&#x27;,\n",
              "                                                   &#x27;Average Hourly Wage&#x27;,\n",
              "                                                   &#x27;Fuel Rate /Gallon&#x27;,\n",
              "                                                   &#x27;Level of Disruption&#x27;,\n",
              "                                                   &#x27;Travel Time (hours)&#x27;])])),\n",
              "                (&#x27;regressor&#x27;, Ridge())])</pre></div></div></div><div class=\"sk-serial\"><div class=\"sk-item sk-dashed-wrapped\"><div class=\"sk-label-container\"><div class=\"sk-label sk-toggleable\"><input class=\"sk-toggleable__control sk-hidden--visually\" id=\"sk-estimator-id-2\" type=\"checkbox\" ><label for=\"sk-estimator-id-2\" class=\"sk-toggleable__label sk-toggleable__label-arrow\">preprocessor: ColumnTransformer</label><div class=\"sk-toggleable__content\"><pre>ColumnTransformer(transformers=[(&#x27;num&#x27;,\n",
              "                                 Pipeline(steps=[(&#x27;scaler&#x27;, StandardScaler())]),\n",
              "                                 [&#x27;Actual Pickup Month&#x27;, &#x27;Actual Pickup Day&#x27;,\n",
              "                                  &#x27;Actual Pickup Year&#x27;, &#x27;Actual Delivery Month&#x27;,\n",
              "                                  &#x27;Actual Delivery Day&#x27;, &#x27;Actual Delivery Year&#x27;,\n",
              "                                  &#x27;Weight Unit of measure (LB)&#x27;,\n",
              "                                  &#x27;Time Difference (Hours)&#x27;,\n",
              "                                  &#x27;Average Hourly Wage&#x27;, &#x27;Fuel Rate /Gallon&#x27;,\n",
              "                                  &#x27;Level of Disruption&#x27;,\n",
              "                                  &#x27;Travel Time (hours)&#x27;])])</pre></div></div></div><div class=\"sk-parallel\"><div class=\"sk-parallel-item\"><div class=\"sk-item\"><div class=\"sk-label-container\"><div class=\"sk-label sk-toggleable\"><input class=\"sk-toggleable__control sk-hidden--visually\" id=\"sk-estimator-id-3\" type=\"checkbox\" ><label for=\"sk-estimator-id-3\" class=\"sk-toggleable__label sk-toggleable__label-arrow\">num</label><div class=\"sk-toggleable__content\"><pre>[&#x27;Actual Pickup Month&#x27;, &#x27;Actual Pickup Day&#x27;, &#x27;Actual Pickup Year&#x27;, &#x27;Actual Delivery Month&#x27;, &#x27;Actual Delivery Day&#x27;, &#x27;Actual Delivery Year&#x27;, &#x27;Weight Unit of measure (LB)&#x27;, &#x27;Time Difference (Hours)&#x27;, &#x27;Average Hourly Wage&#x27;, &#x27;Fuel Rate /Gallon&#x27;, &#x27;Level of Disruption&#x27;, &#x27;Travel Time (hours)&#x27;]</pre></div></div></div><div class=\"sk-serial\"><div class=\"sk-item\"><div class=\"sk-serial\"><div class=\"sk-item\"><div class=\"sk-estimator sk-toggleable\"><input class=\"sk-toggleable__control sk-hidden--visually\" id=\"sk-estimator-id-4\" type=\"checkbox\" ><label for=\"sk-estimator-id-4\" class=\"sk-toggleable__label sk-toggleable__label-arrow\">StandardScaler</label><div class=\"sk-toggleable__content\"><pre>StandardScaler()</pre></div></div></div></div></div></div></div></div></div></div><div class=\"sk-item\"><div class=\"sk-estimator sk-toggleable\"><input class=\"sk-toggleable__control sk-hidden--visually\" id=\"sk-estimator-id-5\" type=\"checkbox\" ><label for=\"sk-estimator-id-5\" class=\"sk-toggleable__label sk-toggleable__label-arrow\">Ridge</label><div class=\"sk-toggleable__content\"><pre>Ridge()</pre></div></div></div></div></div></div></div>"
            ]
          },
          "metadata": {},
          "execution_count": 17
        }
      ]
    },
    {
      "cell_type": "code",
      "source": [
        "# Predicting\n",
        "y_pred = model.predict(X_test)"
      ],
      "metadata": {
        "id": "Vtpc8w3dP7eq"
      },
      "execution_count": 18,
      "outputs": []
    },
    {
      "cell_type": "code",
      "source": [
        "# Evaluating the model\n",
        "mse = mean_squared_error(y_test, y_pred)\n",
        "rmse = np.sqrt(mse)\n",
        "r2 = r2_score(y_test, y_pred)\n",
        "\n",
        "print(f'Mean Squared Error (MSE): {mse}')\n",
        "print(f'Root Mean Squared Error (RMSE): {rmse}')\n",
        "print(f'R-squared (R2): {r2}')"
      ],
      "metadata": {
        "colab": {
          "base_uri": "https://localhost:8080/"
        },
        "id": "Jfl-RADLP7h7",
        "outputId": "30e83e1d-bb7b-446e-8878-3d6cb623e9a1"
      },
      "execution_count": 19,
      "outputs": [
        {
          "output_type": "stream",
          "name": "stdout",
          "text": [
            "Mean Squared Error (MSE): 604985.2892359918\n",
            "Root Mean Squared Error (RMSE): 777.808002810457\n",
            "R-squared (R2): 0.43820866452081475\n"
          ]
        }
      ]
    },
    {
      "cell_type": "code",
      "source": [
        "from sklearn.preprocessing import PolynomialFeatures\n",
        "# Preprocessing for numerical data: Scaling and Polynomial Features\n",
        "numerical_cols = [cname for cname in X.columns if X[cname].dtype in ['int64', 'float64']]\n",
        "numerical_transformer = Pipeline(steps=[\n",
        "    ('scaler', StandardScaler()),\n",
        "    ('poly', PolynomialFeatures(degree=3, include_bias=False))  # Add polynomial features\n",
        "])"
      ],
      "metadata": {
        "id": "dpchnvo8z-sU"
      },
      "execution_count": 20,
      "outputs": []
    },
    {
      "cell_type": "code",
      "source": [
        "# Bundle preprocessing for numerical data\n",
        "preprocessor_1 = ColumnTransformer(\n",
        "    transformers=[\n",
        "        ('num', numerical_transformer, numerical_cols)\n",
        "    ])\n",
        "\n",
        "# Define the model with Ridge Regression\n",
        "model_1 = Pipeline(steps=[\n",
        "    ('preprocessor', preprocessor_1),\n",
        "    ('regressor', Ridge(alpha=1.0))\n",
        "])\n"
      ],
      "metadata": {
        "id": "KH6_p05jz9_T"
      },
      "execution_count": 21,
      "outputs": []
    },
    {
      "cell_type": "code",
      "source": [
        "\n",
        "model_1.fit(X_train, y_train)\n",
        "\n"
      ],
      "metadata": {
        "colab": {
          "base_uri": "https://localhost:8080/",
          "height": 228
        },
        "id": "p36r7-qQz97E",
        "outputId": "fff96c79-30de-4d99-8fe7-e82e9fed7c48"
      },
      "execution_count": 22,
      "outputs": [
        {
          "output_type": "execute_result",
          "data": {
            "text/plain": [
              "Pipeline(steps=[('preprocessor',\n",
              "                 ColumnTransformer(transformers=[('num',\n",
              "                                                  Pipeline(steps=[('scaler',\n",
              "                                                                   StandardScaler()),\n",
              "                                                                  ('poly',\n",
              "                                                                   PolynomialFeatures(degree=3,\n",
              "                                                                                      include_bias=False))]),\n",
              "                                                  ['Actual Pickup Month',\n",
              "                                                   'Actual Pickup Day',\n",
              "                                                   'Actual Pickup Year',\n",
              "                                                   'Actual Delivery Month',\n",
              "                                                   'Actual Delivery Day',\n",
              "                                                   'Actual Delivery Year',\n",
              "                                                   'Weight Unit of measure '\n",
              "                                                   '(LB)',\n",
              "                                                   'Time Difference (Hours)',\n",
              "                                                   'Average Hourly Wage',\n",
              "                                                   'Fuel Rate /Gallon',\n",
              "                                                   'Level of Disruption',\n",
              "                                                   'Travel Time (hours)'])])),\n",
              "                ('regressor', Ridge())])"
            ],
            "text/html": [
              "<style>#sk-container-id-2 {color: black;background-color: white;}#sk-container-id-2 pre{padding: 0;}#sk-container-id-2 div.sk-toggleable {background-color: white;}#sk-container-id-2 label.sk-toggleable__label {cursor: pointer;display: block;width: 100%;margin-bottom: 0;padding: 0.3em;box-sizing: border-box;text-align: center;}#sk-container-id-2 label.sk-toggleable__label-arrow:before {content: \"▸\";float: left;margin-right: 0.25em;color: #696969;}#sk-container-id-2 label.sk-toggleable__label-arrow:hover:before {color: black;}#sk-container-id-2 div.sk-estimator:hover label.sk-toggleable__label-arrow:before {color: black;}#sk-container-id-2 div.sk-toggleable__content {max-height: 0;max-width: 0;overflow: hidden;text-align: left;background-color: #f0f8ff;}#sk-container-id-2 div.sk-toggleable__content pre {margin: 0.2em;color: black;border-radius: 0.25em;background-color: #f0f8ff;}#sk-container-id-2 input.sk-toggleable__control:checked~div.sk-toggleable__content {max-height: 200px;max-width: 100%;overflow: auto;}#sk-container-id-2 input.sk-toggleable__control:checked~label.sk-toggleable__label-arrow:before {content: \"▾\";}#sk-container-id-2 div.sk-estimator input.sk-toggleable__control:checked~label.sk-toggleable__label {background-color: #d4ebff;}#sk-container-id-2 div.sk-label input.sk-toggleable__control:checked~label.sk-toggleable__label {background-color: #d4ebff;}#sk-container-id-2 input.sk-hidden--visually {border: 0;clip: rect(1px 1px 1px 1px);clip: rect(1px, 1px, 1px, 1px);height: 1px;margin: -1px;overflow: hidden;padding: 0;position: absolute;width: 1px;}#sk-container-id-2 div.sk-estimator {font-family: monospace;background-color: #f0f8ff;border: 1px dotted black;border-radius: 0.25em;box-sizing: border-box;margin-bottom: 0.5em;}#sk-container-id-2 div.sk-estimator:hover {background-color: #d4ebff;}#sk-container-id-2 div.sk-parallel-item::after {content: \"\";width: 100%;border-bottom: 1px solid gray;flex-grow: 1;}#sk-container-id-2 div.sk-label:hover label.sk-toggleable__label {background-color: #d4ebff;}#sk-container-id-2 div.sk-serial::before {content: \"\";position: absolute;border-left: 1px solid gray;box-sizing: border-box;top: 0;bottom: 0;left: 50%;z-index: 0;}#sk-container-id-2 div.sk-serial {display: flex;flex-direction: column;align-items: center;background-color: white;padding-right: 0.2em;padding-left: 0.2em;position: relative;}#sk-container-id-2 div.sk-item {position: relative;z-index: 1;}#sk-container-id-2 div.sk-parallel {display: flex;align-items: stretch;justify-content: center;background-color: white;position: relative;}#sk-container-id-2 div.sk-item::before, #sk-container-id-2 div.sk-parallel-item::before {content: \"\";position: absolute;border-left: 1px solid gray;box-sizing: border-box;top: 0;bottom: 0;left: 50%;z-index: -1;}#sk-container-id-2 div.sk-parallel-item {display: flex;flex-direction: column;z-index: 1;position: relative;background-color: white;}#sk-container-id-2 div.sk-parallel-item:first-child::after {align-self: flex-end;width: 50%;}#sk-container-id-2 div.sk-parallel-item:last-child::after {align-self: flex-start;width: 50%;}#sk-container-id-2 div.sk-parallel-item:only-child::after {width: 0;}#sk-container-id-2 div.sk-dashed-wrapped {border: 1px dashed gray;margin: 0 0.4em 0.5em 0.4em;box-sizing: border-box;padding-bottom: 0.4em;background-color: white;}#sk-container-id-2 div.sk-label label {font-family: monospace;font-weight: bold;display: inline-block;line-height: 1.2em;}#sk-container-id-2 div.sk-label-container {text-align: center;}#sk-container-id-2 div.sk-container {/* jupyter's `normalize.less` sets `[hidden] { display: none; }` but bootstrap.min.css set `[hidden] { display: none !important; }` so we also need the `!important` here to be able to override the default hidden behavior on the sphinx rendered scikit-learn.org. See: https://github.com/scikit-learn/scikit-learn/issues/21755 */display: inline-block !important;position: relative;}#sk-container-id-2 div.sk-text-repr-fallback {display: none;}</style><div id=\"sk-container-id-2\" class=\"sk-top-container\"><div class=\"sk-text-repr-fallback\"><pre>Pipeline(steps=[(&#x27;preprocessor&#x27;,\n",
              "                 ColumnTransformer(transformers=[(&#x27;num&#x27;,\n",
              "                                                  Pipeline(steps=[(&#x27;scaler&#x27;,\n",
              "                                                                   StandardScaler()),\n",
              "                                                                  (&#x27;poly&#x27;,\n",
              "                                                                   PolynomialFeatures(degree=3,\n",
              "                                                                                      include_bias=False))]),\n",
              "                                                  [&#x27;Actual Pickup Month&#x27;,\n",
              "                                                   &#x27;Actual Pickup Day&#x27;,\n",
              "                                                   &#x27;Actual Pickup Year&#x27;,\n",
              "                                                   &#x27;Actual Delivery Month&#x27;,\n",
              "                                                   &#x27;Actual Delivery Day&#x27;,\n",
              "                                                   &#x27;Actual Delivery Year&#x27;,\n",
              "                                                   &#x27;Weight Unit of measure &#x27;\n",
              "                                                   &#x27;(LB)&#x27;,\n",
              "                                                   &#x27;Time Difference (Hours)&#x27;,\n",
              "                                                   &#x27;Average Hourly Wage&#x27;,\n",
              "                                                   &#x27;Fuel Rate /Gallon&#x27;,\n",
              "                                                   &#x27;Level of Disruption&#x27;,\n",
              "                                                   &#x27;Travel Time (hours)&#x27;])])),\n",
              "                (&#x27;regressor&#x27;, Ridge())])</pre><b>In a Jupyter environment, please rerun this cell to show the HTML representation or trust the notebook. <br />On GitHub, the HTML representation is unable to render, please try loading this page with nbviewer.org.</b></div><div class=\"sk-container\" hidden><div class=\"sk-item sk-dashed-wrapped\"><div class=\"sk-label-container\"><div class=\"sk-label sk-toggleable\"><input class=\"sk-toggleable__control sk-hidden--visually\" id=\"sk-estimator-id-6\" type=\"checkbox\" ><label for=\"sk-estimator-id-6\" class=\"sk-toggleable__label sk-toggleable__label-arrow\">Pipeline</label><div class=\"sk-toggleable__content\"><pre>Pipeline(steps=[(&#x27;preprocessor&#x27;,\n",
              "                 ColumnTransformer(transformers=[(&#x27;num&#x27;,\n",
              "                                                  Pipeline(steps=[(&#x27;scaler&#x27;,\n",
              "                                                                   StandardScaler()),\n",
              "                                                                  (&#x27;poly&#x27;,\n",
              "                                                                   PolynomialFeatures(degree=3,\n",
              "                                                                                      include_bias=False))]),\n",
              "                                                  [&#x27;Actual Pickup Month&#x27;,\n",
              "                                                   &#x27;Actual Pickup Day&#x27;,\n",
              "                                                   &#x27;Actual Pickup Year&#x27;,\n",
              "                                                   &#x27;Actual Delivery Month&#x27;,\n",
              "                                                   &#x27;Actual Delivery Day&#x27;,\n",
              "                                                   &#x27;Actual Delivery Year&#x27;,\n",
              "                                                   &#x27;Weight Unit of measure &#x27;\n",
              "                                                   &#x27;(LB)&#x27;,\n",
              "                                                   &#x27;Time Difference (Hours)&#x27;,\n",
              "                                                   &#x27;Average Hourly Wage&#x27;,\n",
              "                                                   &#x27;Fuel Rate /Gallon&#x27;,\n",
              "                                                   &#x27;Level of Disruption&#x27;,\n",
              "                                                   &#x27;Travel Time (hours)&#x27;])])),\n",
              "                (&#x27;regressor&#x27;, Ridge())])</pre></div></div></div><div class=\"sk-serial\"><div class=\"sk-item sk-dashed-wrapped\"><div class=\"sk-label-container\"><div class=\"sk-label sk-toggleable\"><input class=\"sk-toggleable__control sk-hidden--visually\" id=\"sk-estimator-id-7\" type=\"checkbox\" ><label for=\"sk-estimator-id-7\" class=\"sk-toggleable__label sk-toggleable__label-arrow\">preprocessor: ColumnTransformer</label><div class=\"sk-toggleable__content\"><pre>ColumnTransformer(transformers=[(&#x27;num&#x27;,\n",
              "                                 Pipeline(steps=[(&#x27;scaler&#x27;, StandardScaler()),\n",
              "                                                 (&#x27;poly&#x27;,\n",
              "                                                  PolynomialFeatures(degree=3,\n",
              "                                                                     include_bias=False))]),\n",
              "                                 [&#x27;Actual Pickup Month&#x27;, &#x27;Actual Pickup Day&#x27;,\n",
              "                                  &#x27;Actual Pickup Year&#x27;, &#x27;Actual Delivery Month&#x27;,\n",
              "                                  &#x27;Actual Delivery Day&#x27;, &#x27;Actual Delivery Year&#x27;,\n",
              "                                  &#x27;Weight Unit of measure (LB)&#x27;,\n",
              "                                  &#x27;Time Difference (Hours)&#x27;,\n",
              "                                  &#x27;Average Hourly Wage&#x27;, &#x27;Fuel Rate /Gallon&#x27;,\n",
              "                                  &#x27;Level of Disruption&#x27;,\n",
              "                                  &#x27;Travel Time (hours)&#x27;])])</pre></div></div></div><div class=\"sk-parallel\"><div class=\"sk-parallel-item\"><div class=\"sk-item\"><div class=\"sk-label-container\"><div class=\"sk-label sk-toggleable\"><input class=\"sk-toggleable__control sk-hidden--visually\" id=\"sk-estimator-id-8\" type=\"checkbox\" ><label for=\"sk-estimator-id-8\" class=\"sk-toggleable__label sk-toggleable__label-arrow\">num</label><div class=\"sk-toggleable__content\"><pre>[&#x27;Actual Pickup Month&#x27;, &#x27;Actual Pickup Day&#x27;, &#x27;Actual Pickup Year&#x27;, &#x27;Actual Delivery Month&#x27;, &#x27;Actual Delivery Day&#x27;, &#x27;Actual Delivery Year&#x27;, &#x27;Weight Unit of measure (LB)&#x27;, &#x27;Time Difference (Hours)&#x27;, &#x27;Average Hourly Wage&#x27;, &#x27;Fuel Rate /Gallon&#x27;, &#x27;Level of Disruption&#x27;, &#x27;Travel Time (hours)&#x27;]</pre></div></div></div><div class=\"sk-serial\"><div class=\"sk-item\"><div class=\"sk-serial\"><div class=\"sk-item\"><div class=\"sk-estimator sk-toggleable\"><input class=\"sk-toggleable__control sk-hidden--visually\" id=\"sk-estimator-id-9\" type=\"checkbox\" ><label for=\"sk-estimator-id-9\" class=\"sk-toggleable__label sk-toggleable__label-arrow\">StandardScaler</label><div class=\"sk-toggleable__content\"><pre>StandardScaler()</pre></div></div></div><div class=\"sk-item\"><div class=\"sk-estimator sk-toggleable\"><input class=\"sk-toggleable__control sk-hidden--visually\" id=\"sk-estimator-id-10\" type=\"checkbox\" ><label for=\"sk-estimator-id-10\" class=\"sk-toggleable__label sk-toggleable__label-arrow\">PolynomialFeatures</label><div class=\"sk-toggleable__content\"><pre>PolynomialFeatures(degree=3, include_bias=False)</pre></div></div></div></div></div></div></div></div></div></div><div class=\"sk-item\"><div class=\"sk-estimator sk-toggleable\"><input class=\"sk-toggleable__control sk-hidden--visually\" id=\"sk-estimator-id-11\" type=\"checkbox\" ><label for=\"sk-estimator-id-11\" class=\"sk-toggleable__label sk-toggleable__label-arrow\">Ridge</label><div class=\"sk-toggleable__content\"><pre>Ridge()</pre></div></div></div></div></div></div></div>"
            ]
          },
          "metadata": {},
          "execution_count": 22
        }
      ]
    },
    {
      "cell_type": "code",
      "source": [
        "# Predicting\n",
        "y_pred = model_1.predict(X_test)\n",
        "# Evaluating the model\n",
        "mse = mean_squared_error(y_test, y_pred)\n",
        "rmse = np.sqrt(mse)\n",
        "r2 = r2_score(y_test, y_pred)"
      ],
      "metadata": {
        "id": "xCaE2kAyz93c"
      },
      "execution_count": 23,
      "outputs": []
    },
    {
      "cell_type": "code",
      "source": [
        "print(f'Mean Squared Error (MSE): {mse}')\n",
        "print(f'Root Mean Squared Error (RMSE): {rmse}')\n",
        "print(f'R-squared (R2): {r2}')"
      ],
      "metadata": {
        "colab": {
          "base_uri": "https://localhost:8080/"
        },
        "id": "d2CrFSQO0KUB",
        "outputId": "8dacd8a1-8750-44c9-a58e-6de74623d85e"
      },
      "execution_count": 24,
      "outputs": [
        {
          "output_type": "stream",
          "name": "stdout",
          "text": [
            "Mean Squared Error (MSE): 434682.03265061066\n",
            "Root Mean Squared Error (RMSE): 659.3042034225253\n",
            "R-squared (R2): 0.5963528304300041\n"
          ]
        }
      ]
    },
    {
      "cell_type": "code",
      "source": [
        "ridge_estimator = model.named_steps['regressor']\n",
        "\n",
        "# Get the coefficients and intercept of the Ridge model\n",
        "coefficients = ridge_estimator.coef_\n",
        "intercept = ridge_estimator.intercept_\n",
        "\n",
        "# Print the coefficients and intercept\n",
        "print(\"Coefficients:\", coefficients)\n",
        "print(\"Intercept:\", intercept)"
      ],
      "metadata": {
        "colab": {
          "base_uri": "https://localhost:8080/"
        },
        "id": "xs3VNYwmP7lW",
        "outputId": "8c557363-2e04-4adb-ce7c-52d53952ef2d"
      },
      "execution_count": 25,
      "outputs": [
        {
          "output_type": "stream",
          "name": "stdout",
          "text": [
            "Coefficients: [-2.19078771e+02 -1.93855494e+01 -1.92040493e+02  1.31740758e+02\n",
            "  1.78890587e+01  6.74230746e-02  9.85021750e+01  2.99665437e+02\n",
            " -1.27585822e+02  6.72371176e+00  1.03251705e+01  4.50023276e+02]\n",
            "Intercept: 1882.3395694210717\n"
          ]
        }
      ]
    },
    {
      "cell_type": "code",
      "source": [
        "# Define additional models\n",
        "linear_model = LinearRegression()\n",
        "rf_model = RandomForestRegressor()\n",
        "mlp_model = MLPRegressor()\n",
        "svr_model = SVR()"
      ],
      "metadata": {
        "id": "EQXpXZ9DfNF6"
      },
      "execution_count": 26,
      "outputs": []
    },
    {
      "cell_type": "code",
      "source": [
        "# Define additional pipelines\n",
        "linear_pipeline = Pipeline(steps=[\n",
        "    ('preprocessor', preprocessor),\n",
        "    ('regressor', linear_model)\n",
        "])\n",
        "\n",
        "rf_pipeline = Pipeline(steps=[\n",
        "    ('preprocessor', preprocessor),\n",
        "    ('regressor', rf_model)\n",
        "])\n",
        "\n",
        "mlp_pipeline = Pipeline(steps=[\n",
        "    ('preprocessor', preprocessor),\n",
        "    ('regressor', mlp_model)\n",
        "])\n",
        "\n",
        "svr_pipeline = Pipeline(steps=[\n",
        "    ('preprocessor', preprocessor),\n",
        "    ('regressor', svr_model)\n",
        "])\n"
      ],
      "metadata": {
        "id": "Kqd9oI6ZjC4r"
      },
      "execution_count": 27,
      "outputs": []
    },
    {
      "cell_type": "code",
      "source": [
        "# Fit additional models\n",
        "linear_pipeline.fit(X_train, y_train)\n",
        "rf_pipeline.fit(X_train, y_train)\n",
        "mlp_pipeline.fit(X_train, y_train)\n",
        "svr_pipeline.fit(X_train, y_train)\n"
      ],
      "metadata": {
        "colab": {
          "base_uri": "https://localhost:8080/",
          "height": 228
        },
        "id": "oMGdAp1YjFd9",
        "outputId": "63095451-268d-4d1f-f332-c6ccc0f83117"
      },
      "execution_count": 28,
      "outputs": [
        {
          "output_type": "stream",
          "name": "stderr",
          "text": [
            "/usr/local/lib/python3.10/dist-packages/sklearn/neural_network/_multilayer_perceptron.py:686: ConvergenceWarning: Stochastic Optimizer: Maximum iterations (200) reached and the optimization hasn't converged yet.\n",
            "  warnings.warn(\n"
          ]
        },
        {
          "output_type": "execute_result",
          "data": {
            "text/plain": [
              "Pipeline(steps=[('preprocessor',\n",
              "                 ColumnTransformer(transformers=[('num',\n",
              "                                                  Pipeline(steps=[('scaler',\n",
              "                                                                   StandardScaler())]),\n",
              "                                                  ['Actual Pickup Month',\n",
              "                                                   'Actual Pickup Day',\n",
              "                                                   'Actual Pickup Year',\n",
              "                                                   'Actual Delivery Month',\n",
              "                                                   'Actual Delivery Day',\n",
              "                                                   'Actual Delivery Year',\n",
              "                                                   'Weight Unit of measure '\n",
              "                                                   '(LB)',\n",
              "                                                   'Time Difference (Hours)',\n",
              "                                                   'Average Hourly Wage',\n",
              "                                                   'Fuel Rate /Gallon',\n",
              "                                                   'Level of Disruption',\n",
              "                                                   'Travel Time (hours)'])])),\n",
              "                ('regressor', SVR())])"
            ],
            "text/html": [
              "<style>#sk-container-id-3 {color: black;background-color: white;}#sk-container-id-3 pre{padding: 0;}#sk-container-id-3 div.sk-toggleable {background-color: white;}#sk-container-id-3 label.sk-toggleable__label {cursor: pointer;display: block;width: 100%;margin-bottom: 0;padding: 0.3em;box-sizing: border-box;text-align: center;}#sk-container-id-3 label.sk-toggleable__label-arrow:before {content: \"▸\";float: left;margin-right: 0.25em;color: #696969;}#sk-container-id-3 label.sk-toggleable__label-arrow:hover:before {color: black;}#sk-container-id-3 div.sk-estimator:hover label.sk-toggleable__label-arrow:before {color: black;}#sk-container-id-3 div.sk-toggleable__content {max-height: 0;max-width: 0;overflow: hidden;text-align: left;background-color: #f0f8ff;}#sk-container-id-3 div.sk-toggleable__content pre {margin: 0.2em;color: black;border-radius: 0.25em;background-color: #f0f8ff;}#sk-container-id-3 input.sk-toggleable__control:checked~div.sk-toggleable__content {max-height: 200px;max-width: 100%;overflow: auto;}#sk-container-id-3 input.sk-toggleable__control:checked~label.sk-toggleable__label-arrow:before {content: \"▾\";}#sk-container-id-3 div.sk-estimator input.sk-toggleable__control:checked~label.sk-toggleable__label {background-color: #d4ebff;}#sk-container-id-3 div.sk-label input.sk-toggleable__control:checked~label.sk-toggleable__label {background-color: #d4ebff;}#sk-container-id-3 input.sk-hidden--visually {border: 0;clip: rect(1px 1px 1px 1px);clip: rect(1px, 1px, 1px, 1px);height: 1px;margin: -1px;overflow: hidden;padding: 0;position: absolute;width: 1px;}#sk-container-id-3 div.sk-estimator {font-family: monospace;background-color: #f0f8ff;border: 1px dotted black;border-radius: 0.25em;box-sizing: border-box;margin-bottom: 0.5em;}#sk-container-id-3 div.sk-estimator:hover {background-color: #d4ebff;}#sk-container-id-3 div.sk-parallel-item::after {content: \"\";width: 100%;border-bottom: 1px solid gray;flex-grow: 1;}#sk-container-id-3 div.sk-label:hover label.sk-toggleable__label {background-color: #d4ebff;}#sk-container-id-3 div.sk-serial::before {content: \"\";position: absolute;border-left: 1px solid gray;box-sizing: border-box;top: 0;bottom: 0;left: 50%;z-index: 0;}#sk-container-id-3 div.sk-serial {display: flex;flex-direction: column;align-items: center;background-color: white;padding-right: 0.2em;padding-left: 0.2em;position: relative;}#sk-container-id-3 div.sk-item {position: relative;z-index: 1;}#sk-container-id-3 div.sk-parallel {display: flex;align-items: stretch;justify-content: center;background-color: white;position: relative;}#sk-container-id-3 div.sk-item::before, #sk-container-id-3 div.sk-parallel-item::before {content: \"\";position: absolute;border-left: 1px solid gray;box-sizing: border-box;top: 0;bottom: 0;left: 50%;z-index: -1;}#sk-container-id-3 div.sk-parallel-item {display: flex;flex-direction: column;z-index: 1;position: relative;background-color: white;}#sk-container-id-3 div.sk-parallel-item:first-child::after {align-self: flex-end;width: 50%;}#sk-container-id-3 div.sk-parallel-item:last-child::after {align-self: flex-start;width: 50%;}#sk-container-id-3 div.sk-parallel-item:only-child::after {width: 0;}#sk-container-id-3 div.sk-dashed-wrapped {border: 1px dashed gray;margin: 0 0.4em 0.5em 0.4em;box-sizing: border-box;padding-bottom: 0.4em;background-color: white;}#sk-container-id-3 div.sk-label label {font-family: monospace;font-weight: bold;display: inline-block;line-height: 1.2em;}#sk-container-id-3 div.sk-label-container {text-align: center;}#sk-container-id-3 div.sk-container {/* jupyter's `normalize.less` sets `[hidden] { display: none; }` but bootstrap.min.css set `[hidden] { display: none !important; }` so we also need the `!important` here to be able to override the default hidden behavior on the sphinx rendered scikit-learn.org. See: https://github.com/scikit-learn/scikit-learn/issues/21755 */display: inline-block !important;position: relative;}#sk-container-id-3 div.sk-text-repr-fallback {display: none;}</style><div id=\"sk-container-id-3\" class=\"sk-top-container\"><div class=\"sk-text-repr-fallback\"><pre>Pipeline(steps=[(&#x27;preprocessor&#x27;,\n",
              "                 ColumnTransformer(transformers=[(&#x27;num&#x27;,\n",
              "                                                  Pipeline(steps=[(&#x27;scaler&#x27;,\n",
              "                                                                   StandardScaler())]),\n",
              "                                                  [&#x27;Actual Pickup Month&#x27;,\n",
              "                                                   &#x27;Actual Pickup Day&#x27;,\n",
              "                                                   &#x27;Actual Pickup Year&#x27;,\n",
              "                                                   &#x27;Actual Delivery Month&#x27;,\n",
              "                                                   &#x27;Actual Delivery Day&#x27;,\n",
              "                                                   &#x27;Actual Delivery Year&#x27;,\n",
              "                                                   &#x27;Weight Unit of measure &#x27;\n",
              "                                                   &#x27;(LB)&#x27;,\n",
              "                                                   &#x27;Time Difference (Hours)&#x27;,\n",
              "                                                   &#x27;Average Hourly Wage&#x27;,\n",
              "                                                   &#x27;Fuel Rate /Gallon&#x27;,\n",
              "                                                   &#x27;Level of Disruption&#x27;,\n",
              "                                                   &#x27;Travel Time (hours)&#x27;])])),\n",
              "                (&#x27;regressor&#x27;, SVR())])</pre><b>In a Jupyter environment, please rerun this cell to show the HTML representation or trust the notebook. <br />On GitHub, the HTML representation is unable to render, please try loading this page with nbviewer.org.</b></div><div class=\"sk-container\" hidden><div class=\"sk-item sk-dashed-wrapped\"><div class=\"sk-label-container\"><div class=\"sk-label sk-toggleable\"><input class=\"sk-toggleable__control sk-hidden--visually\" id=\"sk-estimator-id-12\" type=\"checkbox\" ><label for=\"sk-estimator-id-12\" class=\"sk-toggleable__label sk-toggleable__label-arrow\">Pipeline</label><div class=\"sk-toggleable__content\"><pre>Pipeline(steps=[(&#x27;preprocessor&#x27;,\n",
              "                 ColumnTransformer(transformers=[(&#x27;num&#x27;,\n",
              "                                                  Pipeline(steps=[(&#x27;scaler&#x27;,\n",
              "                                                                   StandardScaler())]),\n",
              "                                                  [&#x27;Actual Pickup Month&#x27;,\n",
              "                                                   &#x27;Actual Pickup Day&#x27;,\n",
              "                                                   &#x27;Actual Pickup Year&#x27;,\n",
              "                                                   &#x27;Actual Delivery Month&#x27;,\n",
              "                                                   &#x27;Actual Delivery Day&#x27;,\n",
              "                                                   &#x27;Actual Delivery Year&#x27;,\n",
              "                                                   &#x27;Weight Unit of measure &#x27;\n",
              "                                                   &#x27;(LB)&#x27;,\n",
              "                                                   &#x27;Time Difference (Hours)&#x27;,\n",
              "                                                   &#x27;Average Hourly Wage&#x27;,\n",
              "                                                   &#x27;Fuel Rate /Gallon&#x27;,\n",
              "                                                   &#x27;Level of Disruption&#x27;,\n",
              "                                                   &#x27;Travel Time (hours)&#x27;])])),\n",
              "                (&#x27;regressor&#x27;, SVR())])</pre></div></div></div><div class=\"sk-serial\"><div class=\"sk-item sk-dashed-wrapped\"><div class=\"sk-label-container\"><div class=\"sk-label sk-toggleable\"><input class=\"sk-toggleable__control sk-hidden--visually\" id=\"sk-estimator-id-13\" type=\"checkbox\" ><label for=\"sk-estimator-id-13\" class=\"sk-toggleable__label sk-toggleable__label-arrow\">preprocessor: ColumnTransformer</label><div class=\"sk-toggleable__content\"><pre>ColumnTransformer(transformers=[(&#x27;num&#x27;,\n",
              "                                 Pipeline(steps=[(&#x27;scaler&#x27;, StandardScaler())]),\n",
              "                                 [&#x27;Actual Pickup Month&#x27;, &#x27;Actual Pickup Day&#x27;,\n",
              "                                  &#x27;Actual Pickup Year&#x27;, &#x27;Actual Delivery Month&#x27;,\n",
              "                                  &#x27;Actual Delivery Day&#x27;, &#x27;Actual Delivery Year&#x27;,\n",
              "                                  &#x27;Weight Unit of measure (LB)&#x27;,\n",
              "                                  &#x27;Time Difference (Hours)&#x27;,\n",
              "                                  &#x27;Average Hourly Wage&#x27;, &#x27;Fuel Rate /Gallon&#x27;,\n",
              "                                  &#x27;Level of Disruption&#x27;,\n",
              "                                  &#x27;Travel Time (hours)&#x27;])])</pre></div></div></div><div class=\"sk-parallel\"><div class=\"sk-parallel-item\"><div class=\"sk-item\"><div class=\"sk-label-container\"><div class=\"sk-label sk-toggleable\"><input class=\"sk-toggleable__control sk-hidden--visually\" id=\"sk-estimator-id-14\" type=\"checkbox\" ><label for=\"sk-estimator-id-14\" class=\"sk-toggleable__label sk-toggleable__label-arrow\">num</label><div class=\"sk-toggleable__content\"><pre>[&#x27;Actual Pickup Month&#x27;, &#x27;Actual Pickup Day&#x27;, &#x27;Actual Pickup Year&#x27;, &#x27;Actual Delivery Month&#x27;, &#x27;Actual Delivery Day&#x27;, &#x27;Actual Delivery Year&#x27;, &#x27;Weight Unit of measure (LB)&#x27;, &#x27;Time Difference (Hours)&#x27;, &#x27;Average Hourly Wage&#x27;, &#x27;Fuel Rate /Gallon&#x27;, &#x27;Level of Disruption&#x27;, &#x27;Travel Time (hours)&#x27;]</pre></div></div></div><div class=\"sk-serial\"><div class=\"sk-item\"><div class=\"sk-serial\"><div class=\"sk-item\"><div class=\"sk-estimator sk-toggleable\"><input class=\"sk-toggleable__control sk-hidden--visually\" id=\"sk-estimator-id-15\" type=\"checkbox\" ><label for=\"sk-estimator-id-15\" class=\"sk-toggleable__label sk-toggleable__label-arrow\">StandardScaler</label><div class=\"sk-toggleable__content\"><pre>StandardScaler()</pre></div></div></div></div></div></div></div></div></div></div><div class=\"sk-item\"><div class=\"sk-estimator sk-toggleable\"><input class=\"sk-toggleable__control sk-hidden--visually\" id=\"sk-estimator-id-16\" type=\"checkbox\" ><label for=\"sk-estimator-id-16\" class=\"sk-toggleable__label sk-toggleable__label-arrow\">SVR</label><div class=\"sk-toggleable__content\"><pre>SVR()</pre></div></div></div></div></div></div></div>"
            ]
          },
          "metadata": {},
          "execution_count": 28
        }
      ]
    },
    {
      "cell_type": "code",
      "source": [
        "# Evaluate additional models\n",
        "linear_pred = linear_pipeline.predict(X_test)\n",
        "rf_pred = rf_pipeline.predict(X_test)\n",
        "mlp_pred = mlp_pipeline.predict(X_test)\n",
        "svr_pred = svr_pipeline.predict(X_test)"
      ],
      "metadata": {
        "id": "mw-Ye_O0jHo2"
      },
      "execution_count": 29,
      "outputs": []
    },
    {
      "cell_type": "code",
      "source": [
        "# Calculate RMSE and R-squared for additional models\n",
        "linear_rmse = np.sqrt(mean_squared_error(y_test, linear_pred))\n",
        "rf_rmse = np.sqrt(mean_squared_error(y_test, rf_pred))\n",
        "mlp_rmse = np.sqrt(mean_squared_error(y_test, mlp_pred))\n",
        "svr_rmse = np.sqrt(mean_squared_error(y_test, svr_pred))"
      ],
      "metadata": {
        "id": "0X5QXjsyjV0_"
      },
      "execution_count": 30,
      "outputs": []
    },
    {
      "cell_type": "code",
      "source": [
        "linear_r2 = r2_score(y_test, linear_pred)\n",
        "rf_r2 = r2_score(y_test, rf_pred)\n",
        "mlp_r2 = r2_score(y_test, mlp_pred)\n",
        "svr_r2 = r2_score(y_test, svr_pred)"
      ],
      "metadata": {
        "id": "1mQW_dkIjYKp"
      },
      "execution_count": 31,
      "outputs": []
    },
    {
      "cell_type": "code",
      "source": [
        "# Print the RMSE and R-squared for additional models\n",
        "print(\"Linear Regression RMSE:\", linear_rmse)\n",
        "print(\"Linear Regression R-squared:\", linear_r2)\n",
        "print(\"Random Forest RMSE:\", rf_rmse)\n",
        "print(\"Random Forest R-squared:\", rf_r2)\n",
        "print(\"MLP RMSE:\", mlp_rmse)\n",
        "print(\"MLP R-squared:\", mlp_r2)\n",
        "print(\"SVR RMSE:\", svr_rmse)\n",
        "print(\"SVR R-squared:\", svr_r2)"
      ],
      "metadata": {
        "colab": {
          "base_uri": "https://localhost:8080/"
        },
        "id": "cHqNMHY4jawA",
        "outputId": "0a5637fc-3bd6-401b-8539-2fd8751bb0e3"
      },
      "execution_count": 32,
      "outputs": [
        {
          "output_type": "stream",
          "name": "stdout",
          "text": [
            "Linear Regression RMSE: 778.5827926185299\n",
            "Linear Regression R-squared: 0.4370888843436711\n",
            "Random Forest RMSE: 459.97040132966754\n",
            "Random Forest R-squared: 0.8035328276903042\n",
            "MLP RMSE: 764.0033565809946\n",
            "MLP R-squared: 0.45797320605757597\n",
            "SVR RMSE: 885.1142450585209\n",
            "SVR R-squared: 0.27250689259959393\n"
          ]
        }
      ]
    },
    {
      "cell_type": "code",
      "source": [
        "ensemble_model = VotingRegressor([\n",
        "    ('linear', linear_pipeline),\n",
        "    ('rf', rf_pipeline),\n",
        "    ('mlp', mlp_pipeline),\n",
        "    ('svr', svr_pipeline),\n",
        "    ('polynomial', model_1)\n",
        "])\n"
      ],
      "metadata": {
        "id": "2d5yJkhejcxA"
      },
      "execution_count": 33,
      "outputs": []
    },
    {
      "cell_type": "code",
      "source": [
        "ensemble_model.fit(X_train, y_train)\n",
        "ensemble_pred = ensemble_model.predict(X_test)\n",
        "\n",
        "ensemble_mse = mean_squared_error(y_test, ensemble_pred)\n",
        "ensemble_rmse = np.sqrt(ensemble_mse)\n",
        "ensemble_r2 = r2_score(y_test, ensemble_pred)"
      ],
      "metadata": {
        "colab": {
          "base_uri": "https://localhost:8080/"
        },
        "id": "-RVpmEw9jn2q",
        "outputId": "c8e0b1c3-3914-494a-c465-df92f5cb9908"
      },
      "execution_count": 34,
      "outputs": [
        {
          "output_type": "stream",
          "name": "stderr",
          "text": [
            "/usr/local/lib/python3.10/dist-packages/sklearn/neural_network/_multilayer_perceptron.py:686: ConvergenceWarning: Stochastic Optimizer: Maximum iterations (200) reached and the optimization hasn't converged yet.\n",
            "  warnings.warn(\n"
          ]
        }
      ]
    },
    {
      "cell_type": "code",
      "source": [
        "# Print the MSE, RMSE, and R-squared for ensemble method\n",
        "print(\"Ensemble MSE:\", ensemble_mse)\n",
        "print(\"Ensemble RMSE:\", ensemble_rmse)\n",
        "print(\"Ensemble R-squared:\", ensemble_r2)"
      ],
      "metadata": {
        "colab": {
          "base_uri": "https://localhost:8080/"
        },
        "id": "hJO-7SCTj_Q8",
        "outputId": "0f43c598-0497-42a1-fcb0-12816e19e4c6"
      },
      "execution_count": 35,
      "outputs": [
        {
          "output_type": "stream",
          "name": "stdout",
          "text": [
            "Ensemble MSE: 413267.43967497704\n",
            "Ensemble RMSE: 642.8588022847451\n",
            "Ensemble R-squared: 0.616238492115625\n"
          ]
        }
      ]
    },
    {
      "cell_type": "code",
      "source": [
        "ridge_estimator = linear_pipeline.named_steps['regressor']\n",
        "\n",
        "# Get the coefficients and intercept of the Ridge model\n",
        "coefficients = ridge_estimator.coef_\n",
        "intercept = ridge_estimator.intercept_\n",
        "\n",
        "# Print the coefficients and intercept\n",
        "print(\"Coefficients:\", coefficients)\n",
        "print(\"Intercept:\", intercept)"
      ],
      "metadata": {
        "colab": {
          "base_uri": "https://localhost:8080/"
        },
        "id": "xVIQhPk5P0WE",
        "outputId": "32d2e2ca-edc4-4adb-c0fd-abbf599f5f97"
      },
      "execution_count": 36,
      "outputs": [
        {
          "output_type": "stream",
          "name": "stdout",
          "text": [
            "Coefficients: [-6.29002835e+03 -4.98227589e+02 -1.55705422e+04  6.21821320e+03\n",
            "  4.95489413e+02  1.54043440e+04  9.83997474e+01  2.41350132e+02\n",
            " -1.28315492e+02  5.61108661e+00  1.17369993e+01  4.51070211e+02]\n",
            "Intercept: 1882.3395694176359\n"
          ]
        }
      ]
    },
    {
      "cell_type": "code",
      "source": [
        "def get_feature_names_out(column_transformer, input_features=None):\n",
        "    \"\"\"Generate the names of the features after transformation.\"\"\"\n",
        "    output_features = []\n",
        "\n",
        "    for name, trans, column, in column_transformer.transformers_:\n",
        "        if hasattr(trans, 'get_feature_names_out'):\n",
        "            # For transformers with get_feature_names_out method\n",
        "            if trans.__class__.__name__ == 'PolynomialFeatures':\n",
        "                feature_names = trans.get_feature_names_out(input_features)\n",
        "                # Create more descriptive feature names for polynomial features\n",
        "                feature_names = [name.replace(\" \", \"_\") for name in feature_names]\n",
        "            else:\n",
        "                feature_names = trans.get_feature_names_out(column)\n",
        "        else:\n",
        "            feature_names = column\n",
        "\n",
        "        output_features.extend(feature_names)\n",
        "\n",
        "    return output_features\n",
        "\n",
        "# Assuming 'numerical_cols' are your original features going into PolynomialFeatures\n",
        "transformed_feature_names = get_feature_names_out(rf_pipeline.named_steps['preprocessor'], input_features=numerical_cols)\n",
        "\n",
        "print(transformed_feature_names)"
      ],
      "metadata": {
        "colab": {
          "base_uri": "https://localhost:8080/"
        },
        "id": "4dYLpiA3QNYC",
        "outputId": "2195080f-bc4e-452c-a785-f28259d7e55a"
      },
      "execution_count": 37,
      "outputs": [
        {
          "output_type": "stream",
          "name": "stdout",
          "text": [
            "['Actual Pickup Month', 'Actual Pickup Day', 'Actual Pickup Year', 'Actual Delivery Month', 'Actual Delivery Day', 'Actual Delivery Year', 'Weight Unit of measure (LB)', 'Time Difference (Hours)', 'Average Hourly Wage', 'Fuel Rate /Gallon', 'Level of Disruption', 'Travel Time (hours)']\n"
          ]
        }
      ]
    },
    {
      "cell_type": "code",
      "source": [
        "# Define parameter grid for RandomForestRegressor\n",
        "rf_param_grid = {\n",
        "    'regressor__n_estimators': [100, 200, 300],\n",
        "    'regressor__max_depth': [5, 10, 15],\n",
        "    'regressor__min_samples_split': [2, 5, 10]\n",
        "}\n",
        "\n",
        "# Define parameter grid for MLPRegressor\n",
        "mlp_param_grid = {\n",
        "    'regressor__hidden_layer_sizes': [(50,), (100,), (150,)],\n",
        "    'regressor__activation': ['relu', 'tanh'],\n",
        "    'regressor__alpha': [0.0001, 0.001, 0.01]\n",
        "}\n",
        "\n",
        "# Perform grid search for RandomForestRegressor\n",
        "rf_grid_search = GridSearchCV(rf_pipeline, rf_param_grid, cv=5, scoring='neg_mean_squared_error', n_jobs=-1)\n",
        "rf_grid_search.fit(X_train, y_train)\n",
        "\n",
        "# Perform grid search for MLPRegressor\n",
        "mlp_grid_search = GridSearchCV(mlp_pipeline, mlp_param_grid, cv=5, scoring='neg_mean_squared_error', n_jobs=-1)\n",
        "mlp_grid_search.fit(X_train, y_train)\n",
        "\n",
        "# Get the best hyperparameters for each model\n",
        "best_rf_params = rf_grid_search.best_params_\n",
        "best_mlp_params = mlp_grid_search.best_params_\n",
        "\n",
        "print(\"Best RandomForestRegressor Parameters:\", best_rf_params)\n",
        "print(\"Best MLPRegressor Parameters:\", best_mlp_params)\n"
      ],
      "metadata": {
        "id": "7SGG43212oGw",
        "colab": {
          "base_uri": "https://localhost:8080/"
        },
        "outputId": "9dfaccbd-83bb-4b6f-c6ab-def5bc6e9f6f"
      },
      "execution_count": 38,
      "outputs": [
        {
          "output_type": "stream",
          "name": "stdout",
          "text": [
            "Best RandomForestRegressor Parameters: {'regressor__max_depth': 15, 'regressor__min_samples_split': 5, 'regressor__n_estimators': 300}\n",
            "Best MLPRegressor Parameters: {'regressor__activation': 'relu', 'regressor__alpha': 0.01, 'regressor__hidden_layer_sizes': (150,)}\n"
          ]
        },
        {
          "output_type": "stream",
          "name": "stderr",
          "text": [
            "/usr/local/lib/python3.10/dist-packages/sklearn/neural_network/_multilayer_perceptron.py:686: ConvergenceWarning: Stochastic Optimizer: Maximum iterations (200) reached and the optimization hasn't converged yet.\n",
            "  warnings.warn(\n"
          ]
        }
      ]
    },
    {
      "cell_type": "code",
      "source": [
        "# Get the best RandomForestRegressor and MLPRegressor models with the best parameters\n",
        "best_rf_model = rf_grid_search.best_estimator_\n",
        "best_mlp_model = mlp_grid_search.best_estimator_\n",
        "\n",
        "# Fit the best RandomForestRegressor model\n",
        "best_rf_model.fit(X_train, y_train)\n",
        "\n",
        "# Predict using the best RandomForestRegressor model\n",
        "rf_pred = best_rf_model.predict(X_test)\n",
        "\n",
        "# Calculate RMSE and R-squared for the RandomForestRegressor model\n",
        "rf_rmse = np.sqrt(mean_squared_error(y_test, rf_pred))\n",
        "rf_r2 = r2_score(y_test, rf_pred)\n",
        "\n",
        "print(\"RandomForestRegressor RMSE:\", rf_rmse)\n",
        "print(\"RandomForestRegressor R-squared:\", rf_r2)\n",
        "\n",
        "# Fit the best MLPRegressor model\n",
        "best_mlp_model.fit(X_train, y_train)\n",
        "\n",
        "# Predict using the best MLPRegressor model\n",
        "mlp_pred = best_mlp_model.predict(X_test)\n",
        "\n",
        "# Calculate RMSE and R-squared for the MLPRegressor model\n",
        "mlp_rmse = np.sqrt(mean_squared_error(y_test, mlp_pred))\n",
        "mlp_r2 = r2_score(y_test, mlp_pred)\n",
        "\n",
        "print(\"MLPRegressor RMSE:\", mlp_rmse)\n",
        "print(\"MLPRegressor R-squared:\", mlp_r2)"
      ],
      "metadata": {
        "id": "FmkF1mY613Ml",
        "colab": {
          "base_uri": "https://localhost:8080/"
        },
        "outputId": "456da6df-e7da-4f30-82c2-bc1da1044c46"
      },
      "execution_count": 39,
      "outputs": [
        {
          "output_type": "stream",
          "name": "stdout",
          "text": [
            "RandomForestRegressor RMSE: 461.8339310649399\n",
            "RandomForestRegressor R-squared: 0.801937663858136\n",
            "MLPRegressor RMSE: 751.8405163757582\n",
            "MLPRegressor R-squared: 0.4750938342557329\n"
          ]
        },
        {
          "output_type": "stream",
          "name": "stderr",
          "text": [
            "/usr/local/lib/python3.10/dist-packages/sklearn/neural_network/_multilayer_perceptron.py:686: ConvergenceWarning: Stochastic Optimizer: Maximum iterations (200) reached and the optimization hasn't converged yet.\n",
            "  warnings.warn(\n"
          ]
        }
      ]
    },
    {
      "cell_type": "code",
      "source": [
        "# Define the StackingRegressor with RandomForestRegressor, MLPRegressor, and Polynomial Regression models\n",
        "stacked_model = StackingRegressor([\n",
        "    ('rf', best_rf_model),\n",
        "    ('mlp', best_mlp_model),\n",
        "    ('poly', model_1)  # Include your polynomial model here\n",
        "], final_estimator=Ridge())\n",
        "\n",
        "# Fit the StackingRegressor model\n",
        "stacked_model.fit(X_train, y_train)\n",
        "\n",
        "# Predict using the StackingRegressor model\n",
        "stacked_pred = stacked_model.predict(X_test)\n",
        "\n",
        "# Calculate RMSE and R-squared for the StackingRegressor model\n",
        "stacked_rmse = np.sqrt(mean_squared_error(y_test, stacked_pred))\n",
        "stacked_r2 = r2_score(y_test, stacked_pred)\n",
        "\n",
        "print(\"Stacked Model RMSE:\", stacked_rmse)\n",
        "print(\"Stacked Model R-squared:\", stacked_r2)"
      ],
      "metadata": {
        "colab": {
          "base_uri": "https://localhost:8080/"
        },
        "id": "MN5w76T5XA0o",
        "outputId": "32c8ec54-6852-4f6f-e363-0fe0c8a3a8aa"
      },
      "execution_count": 40,
      "outputs": [
        {
          "output_type": "stream",
          "name": "stderr",
          "text": [
            "/usr/local/lib/python3.10/dist-packages/sklearn/neural_network/_multilayer_perceptron.py:686: ConvergenceWarning: Stochastic Optimizer: Maximum iterations (200) reached and the optimization hasn't converged yet.\n",
            "  warnings.warn(\n",
            "/usr/local/lib/python3.10/dist-packages/sklearn/neural_network/_multilayer_perceptron.py:686: ConvergenceWarning: Stochastic Optimizer: Maximum iterations (200) reached and the optimization hasn't converged yet.\n",
            "  warnings.warn(\n",
            "/usr/local/lib/python3.10/dist-packages/sklearn/neural_network/_multilayer_perceptron.py:686: ConvergenceWarning: Stochastic Optimizer: Maximum iterations (200) reached and the optimization hasn't converged yet.\n",
            "  warnings.warn(\n",
            "/usr/local/lib/python3.10/dist-packages/sklearn/neural_network/_multilayer_perceptron.py:686: ConvergenceWarning: Stochastic Optimizer: Maximum iterations (200) reached and the optimization hasn't converged yet.\n",
            "  warnings.warn(\n",
            "/usr/local/lib/python3.10/dist-packages/sklearn/neural_network/_multilayer_perceptron.py:686: ConvergenceWarning: Stochastic Optimizer: Maximum iterations (200) reached and the optimization hasn't converged yet.\n",
            "  warnings.warn(\n",
            "/usr/local/lib/python3.10/dist-packages/sklearn/neural_network/_multilayer_perceptron.py:686: ConvergenceWarning: Stochastic Optimizer: Maximum iterations (200) reached and the optimization hasn't converged yet.\n",
            "  warnings.warn(\n"
          ]
        },
        {
          "output_type": "stream",
          "name": "stdout",
          "text": [
            "Stacked Model RMSE: 462.07432867639835\n",
            "Stacked Model R-squared: 0.801731416107738\n"
          ]
        }
      ]
    },
    {
      "cell_type": "code",
      "source": [
        "import pandas as pd\n",
        "\n",
        "# Create a DataFrame with X_test, y_test, and rf_pred\n",
        "rf_results_df = pd.DataFrame({\n",
        "    # Add more feature columns as needed\n",
        "    'Actual Target': y_test,\n",
        "    'RF Predictions': rf_pred\n",
        "})\n",
        "\n",
        "# Display the DataFrame\n",
        "print(rf_results_df.head())\n"
      ],
      "metadata": {
        "colab": {
          "base_uri": "https://localhost:8080/"
        },
        "id": "5XCnW59sZlJK",
        "outputId": "b5031ce9-07bc-4375-cc42-1096772cac2c"
      },
      "execution_count": 41,
      "outputs": [
        {
          "output_type": "stream",
          "name": "stdout",
          "text": [
            "       Actual Target  RF Predictions\n",
            "14838        1517.04     1416.048184\n",
            "13819        2959.99     2748.495715\n",
            "850          3460.38     3401.342187\n",
            "3941         2208.00     1292.478406\n",
            "2264          333.92      921.132008\n"
          ]
        }
      ]
    },
    {
      "cell_type": "code",
      "source": [
        "# Make predictions using the Random Forest regressor on the test data\n",
        "rf_y_pred = best_rf_model.predict(X_test)\n",
        "\n",
        "# Combine predicted values with selected columns\n",
        "predicted_df = pd.DataFrame(data=rf_y_pred, index=X_test.index, columns=['Predicted'])\n",
        "selected_with_predictions = pd.concat([X_test, predicted_df], axis=1)  # Combine with selected columns\n",
        "\n",
        "# Forecast future values for the next 12 months for each index\n",
        "# Assuming the trend in predictions continues for the next 12 months\n",
        "inflation_rate = 0.032  # 3.2% inflation rate\n",
        "\n",
        "forecasted_values = {}\n",
        "for idx in selected_with_predictions.index:\n",
        "    last_predicted_value = selected_with_predictions.loc[idx, 'Predicted']\n",
        "    forecasted_values[idx] = []\n",
        "    for i in range(1, 13):  # Forecast for the next 12 months\n",
        "        # Adjust the predicted value for inflation\n",
        "        predicted_value_adjusted = last_predicted_value * (1 + inflation_rate * i)  # Increase by inflation rate each month\n",
        "        forecasted_values[idx].append(predicted_value_adjusted)\n",
        "\n",
        "# Convert forecasted values to DataFrame\n",
        "forecasted_df = pd.DataFrame.from_dict(forecasted_values, orient='index', columns=[f'Month_{i}' for i in range(1, 13)])\n",
        "\n",
        "# Print the forecasted values adjusted for inflation with month numbers\n",
        "print(\"\\nForecasted values for the next 12 months adjusted for inflation:\")\n",
        "print(forecasted_df.head(2))"
      ],
      "metadata": {
        "id": "u509nXGQag-n",
        "colab": {
          "base_uri": "https://localhost:8080/"
        },
        "outputId": "65cd14b1-91c1-4df5-b452-c1d0198cf6e8"
      },
      "execution_count": 42,
      "outputs": [
        {
          "output_type": "stream",
          "name": "stdout",
          "text": [
            "\n",
            "Forecasted values for the next 12 months adjusted for inflation:\n",
            "           Month_1      Month_2      Month_3      Month_4      Month_5  \\\n",
            "14838  1461.361726  1506.675268  1551.988809  1597.302351  1642.615893   \n",
            "13819  2836.447578  2924.399441  3012.351304  3100.303167  3188.255030   \n",
            "\n",
            "           Month_6      Month_7      Month_8      Month_9     Month_10  \\\n",
            "14838  1687.929435  1733.242977  1778.556519  1823.870061  1869.183603   \n",
            "13819  3276.206893  3364.158756  3452.110618  3540.062481  3628.014344   \n",
            "\n",
            "          Month_11     Month_12  \n",
            "14838  1914.497145  1959.810686  \n",
            "13819  3715.966207  3803.918070  \n"
          ]
        }
      ]
    },
    {
      "cell_type": "code",
      "source": [
        "import matplotlib.pyplot as plt\n",
        "\n",
        "# Plot actual vs. forecasted values for the first 20 values\n",
        "plt.figure(figsize=(10, 6))\n",
        "plt.plot(y_test.index[:5], y_test[:5], label='Actual', marker='o')\n",
        "plt.plot(selected_with_predictions.index[:5], selected_with_predictions['Predicted'][:5], label='Forecasted', marker='x')\n",
        "plt.xlabel('Date/Time')\n",
        "plt.ylabel('Planned Base Cost')\n",
        "plt.title('Actual vs. Forecasted Values (First 20 values)')\n",
        "plt.legend()\n",
        "plt.grid(True)\n",
        "plt.xticks(rotation=45)\n",
        "plt.tight_layout()\n",
        "plt.show()\n"
      ],
      "metadata": {
        "colab": {
          "base_uri": "https://localhost:8080/",
          "height": 607
        },
        "id": "BXxCrA8hc7Jk",
        "outputId": "deb886c2-3b49-4697-85af-8a8096343261"
      },
      "execution_count": 43,
      "outputs": [
        {
          "output_type": "display_data",
          "data": {
            "text/plain": [
              "<Figure size 1000x600 with 1 Axes>"
            ],
            "image/png": "[encoded data removed]"
          },
          "metadata": {}
        }
      ]
    },
    {
      "cell_type": "code",
      "source": [
        "# Get the RandomForestRegressor model from the pipeline\n",
        "best_rf_regressor = best_rf_model.named_steps['regressor']\n",
        "\n",
        "# Get the feature importances from the RandomForestRegressor\n",
        "feature_importances = best_rf_regressor.feature_importances_\n",
        "\n",
        "# Get the names of the features\n",
        "feature_names = X_train.columns\n",
        "\n",
        "# Create a DataFrame to store feature names and importances\n",
        "feature_importance_df = pd.DataFrame({\n",
        "    'Feature': feature_names,\n",
        "    'Importance': feature_importances\n",
        "})\n",
        "\n",
        "# Sort the DataFrame by importance in descending order\n",
        "feature_importance_df = feature_importance_df.sort_values(by='Importance', ascending=False)\n",
        "\n",
        "# Print the feature names and importances\n",
        "print(\"Features Selected by RandomForestRegressor and their Importances:\")\n",
        "print(feature_importance_df)"
      ],
      "metadata": {
        "id": "VOTtKiUgc7wf",
        "colab": {
          "base_uri": "https://localhost:8080/"
        },
        "outputId": "c9db4f86-c0d5-4d9f-8182-915bdd858c03"
      },
      "execution_count": 45,
      "outputs": [
        {
          "output_type": "stream",
          "name": "stdout",
          "text": [
            "Features Selected by RandomForestRegressor and their Importances:\n",
            "                        Feature  Importance\n",
            "11          Travel Time (hours)    0.734506\n",
            "6   Weight Unit of measure (LB)    0.079739\n",
            "7       Time Difference (Hours)    0.061577\n",
            "9             Fuel Rate /Gallon    0.029714\n",
            "8           Average Hourly Wage    0.018684\n",
            "1             Actual Pickup Day    0.015369\n",
            "4           Actual Delivery Day    0.014748\n",
            "5          Actual Delivery Year    0.013939\n",
            "2            Actual Pickup Year    0.010615\n",
            "0           Actual Pickup Month    0.009959\n",
            "3         Actual Delivery Month    0.007214\n",
            "10          Level of Disruption    0.003937\n"
          ]
        }
      ]
    },
    {
      "cell_type": "code",
      "source": [
        "# Save the best RandomForestRegressor model\n",
        "best_rf_model = RandomForestRegressor()\n",
        "best_rf_model.fit(X_train, y_train)\n",
        "joblib.dump(best_rf_model, 'APL_Logisitcs_Model.joblib')"
      ],
      "metadata": {
        "id": "V_ylASEOegCd",
        "colab": {
          "base_uri": "https://localhost:8080/"
        },
        "outputId": "d01b1410-f6a2-4637-bf83-67b4b8bdc1a4"
      },
      "execution_count": 46,
      "outputs": [
        {
          "output_type": "execute_result",
          "data": {
            "text/plain": [
              "['APL_Logisitcs_Model.joblib']"
            ]
          },
          "metadata": {},
          "execution_count": 46
        }
      ]
    },
    {
      "cell_type": "code",
      "source": [],
      "metadata": {
        "id": "SmfvwicyfqTb"
      },
      "execution_count": null,
      "outputs": []
    }
  ]
}